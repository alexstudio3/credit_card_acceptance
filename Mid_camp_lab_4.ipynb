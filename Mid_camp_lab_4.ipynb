{
 "cells": [
  {
   "cell_type": "code",
   "execution_count": 2,
   "metadata": {},
   "outputs": [
    {
     "name": "stdout",
     "output_type": "stream",
     "text": [
      "Using matplotlib backend: Qt5Agg\n"
     ]
    },
    {
     "name": "stderr",
     "output_type": "stream",
     "text": [
      "C:\\Users\\Borja\\Anaconda3\\lib\\site-packages\\statsmodels\\tools\\_testing.py:19: FutureWarning: pandas.util.testing is deprecated. Use the functions in the public API at pandas.testing instead.\n",
      "  import pandas.util.testing as tm\n"
     ]
    }
   ],
   "source": [
    "#general libraries\n",
    "import pandas as pd\n",
    "import numpy as np\n",
    "import getpass\n",
    "\n",
    "#SQL\n",
    "import pymysql\n",
    "from sqlalchemy import create_engine\n",
    "#plot\n",
    "import seaborn as sns\n",
    "import matplotlib.pyplot as plt\n",
    "%matplotlib\n",
    "\n",
    "#from scipy.stats import normaltest\n",
    "from statsmodels.stats.outliers_influence import variance_inflation_factor\n",
    "from sklearn.model_selection import train_test_split\n",
    "\n",
    "from sklearn.model_selection import train_test_split\n",
    "from sklearn.linear_model import LogisticRegression\n",
    "from sklearn.neighbors import KNeighborsClassifier\n",
    "from sklearn.ensemble import RandomForestClassifier\n",
    "\n",
    "from sklearn.preprocessing import Normalizer, StandardScaler, PowerTransformer\n",
    "\n",
    "from sklearn.metrics import confusion_matrix, plot_confusion_matrix, cohen_kappa_score, accuracy_score, classification_report\n",
    "\n",
    "from imblearn.over_sampling import SMOTE\n",
    "from imblearn.under_sampling import TomekLinks\n"
   ]
  },
  {
   "cell_type": "markdown",
   "metadata": {},
   "source": [
    "# 2. Gather the data"
   ]
  },
  {
   "cell_type": "code",
   "execution_count": 3,
   "metadata": {},
   "outputs": [
    {
     "name": "stdout",
     "output_type": "stream",
     "text": [
      "········\n"
     ]
    }
   ],
   "source": [
    "password = getpass.getpass()"
   ]
  },
  {
   "cell_type": "code",
   "execution_count": 4,
   "metadata": {},
   "outputs": [
    {
     "data": {
      "text/plain": [
       "<sqlalchemy.engine.result.ResultProxy at 0x1d07eb5cd88>"
      ]
     },
     "execution_count": 4,
     "metadata": {},
     "output_type": "execute_result"
    }
   ],
   "source": [
    "connection_string = 'mysql+pymysql://root:' + password + '@localhost/credit_card_classification'\n",
    "engine = create_engine(connection_string)\n",
    "engine.execute(\"USE credit_card_classification\")"
   ]
  },
  {
   "cell_type": "code",
   "execution_count": 5,
   "metadata": {
    "collapsed": true
   },
   "outputs": [
    {
     "data": {
      "text/html": [
       "<div>\n",
       "<style scoped>\n",
       "    .dataframe tbody tr th:only-of-type {\n",
       "        vertical-align: middle;\n",
       "    }\n",
       "\n",
       "    .dataframe tbody tr th {\n",
       "        vertical-align: top;\n",
       "    }\n",
       "\n",
       "    .dataframe thead th {\n",
       "        text-align: right;\n",
       "    }\n",
       "</style>\n",
       "<table border=\"1\" class=\"dataframe\">\n",
       "  <thead>\n",
       "    <tr style=\"text-align: right;\">\n",
       "      <th></th>\n",
       "      <th>customer_number</th>\n",
       "      <th>offer_accepted</th>\n",
       "      <th>reward</th>\n",
       "      <th>mailer_type</th>\n",
       "      <th>income_level</th>\n",
       "      <th>bank_accounts_open</th>\n",
       "      <th>overdraft_protection</th>\n",
       "      <th>credit_rating</th>\n",
       "      <th>credit_cards_held</th>\n",
       "      <th>homes_owned</th>\n",
       "      <th>household_size</th>\n",
       "      <th>own_your_home</th>\n",
       "      <th>balance</th>\n",
       "      <th>average_balance_q1</th>\n",
       "      <th>average_balance_q2</th>\n",
       "      <th>average_balance_q3</th>\n",
       "      <th>average_balance_q4</th>\n",
       "    </tr>\n",
       "  </thead>\n",
       "  <tbody>\n",
       "    <tr>\n",
       "      <th>0</th>\n",
       "      <td>1</td>\n",
       "      <td>No</td>\n",
       "      <td>Air Miles</td>\n",
       "      <td>Letter</td>\n",
       "      <td>High</td>\n",
       "      <td>1</td>\n",
       "      <td>No</td>\n",
       "      <td>High</td>\n",
       "      <td>2</td>\n",
       "      <td>1</td>\n",
       "      <td>4</td>\n",
       "      <td>No</td>\n",
       "      <td>1160.75</td>\n",
       "      <td>1669</td>\n",
       "      <td>877</td>\n",
       "      <td>1095</td>\n",
       "      <td>1002</td>\n",
       "    </tr>\n",
       "    <tr>\n",
       "      <th>1</th>\n",
       "      <td>2</td>\n",
       "      <td>No</td>\n",
       "      <td>Air Miles</td>\n",
       "      <td>Letter</td>\n",
       "      <td>Medium</td>\n",
       "      <td>1</td>\n",
       "      <td>No</td>\n",
       "      <td>Medium</td>\n",
       "      <td>2</td>\n",
       "      <td>2</td>\n",
       "      <td>5</td>\n",
       "      <td>Yes</td>\n",
       "      <td>147.25</td>\n",
       "      <td>39</td>\n",
       "      <td>106</td>\n",
       "      <td>78</td>\n",
       "      <td>366</td>\n",
       "    </tr>\n",
       "    <tr>\n",
       "      <th>2</th>\n",
       "      <td>3</td>\n",
       "      <td>No</td>\n",
       "      <td>Air Miles</td>\n",
       "      <td>Postcard</td>\n",
       "      <td>High</td>\n",
       "      <td>2</td>\n",
       "      <td>No</td>\n",
       "      <td>Medium</td>\n",
       "      <td>2</td>\n",
       "      <td>1</td>\n",
       "      <td>2</td>\n",
       "      <td>Yes</td>\n",
       "      <td>276.50</td>\n",
       "      <td>367</td>\n",
       "      <td>352</td>\n",
       "      <td>145</td>\n",
       "      <td>242</td>\n",
       "    </tr>\n",
       "    <tr>\n",
       "      <th>3</th>\n",
       "      <td>4</td>\n",
       "      <td>No</td>\n",
       "      <td>Air Miles</td>\n",
       "      <td>Letter</td>\n",
       "      <td>Medium</td>\n",
       "      <td>2</td>\n",
       "      <td>No</td>\n",
       "      <td>High</td>\n",
       "      <td>1</td>\n",
       "      <td>1</td>\n",
       "      <td>4</td>\n",
       "      <td>No</td>\n",
       "      <td>1219.00</td>\n",
       "      <td>1578</td>\n",
       "      <td>1760</td>\n",
       "      <td>1119</td>\n",
       "      <td>419</td>\n",
       "    </tr>\n",
       "    <tr>\n",
       "      <th>4</th>\n",
       "      <td>5</td>\n",
       "      <td>No</td>\n",
       "      <td>Air Miles</td>\n",
       "      <td>Letter</td>\n",
       "      <td>Medium</td>\n",
       "      <td>1</td>\n",
       "      <td>No</td>\n",
       "      <td>Medium</td>\n",
       "      <td>2</td>\n",
       "      <td>1</td>\n",
       "      <td>6</td>\n",
       "      <td>Yes</td>\n",
       "      <td>1211.00</td>\n",
       "      <td>2140</td>\n",
       "      <td>1357</td>\n",
       "      <td>982</td>\n",
       "      <td>365</td>\n",
       "    </tr>\n",
       "    <tr>\n",
       "      <th>...</th>\n",
       "      <td>...</td>\n",
       "      <td>...</td>\n",
       "      <td>...</td>\n",
       "      <td>...</td>\n",
       "      <td>...</td>\n",
       "      <td>...</td>\n",
       "      <td>...</td>\n",
       "      <td>...</td>\n",
       "      <td>...</td>\n",
       "      <td>...</td>\n",
       "      <td>...</td>\n",
       "      <td>...</td>\n",
       "      <td>...</td>\n",
       "      <td>...</td>\n",
       "      <td>...</td>\n",
       "      <td>...</td>\n",
       "      <td>...</td>\n",
       "    </tr>\n",
       "    <tr>\n",
       "      <th>17971</th>\n",
       "      <td>17996</td>\n",
       "      <td>No</td>\n",
       "      <td>Cash Back</td>\n",
       "      <td>Letter</td>\n",
       "      <td>High</td>\n",
       "      <td>1</td>\n",
       "      <td>No</td>\n",
       "      <td>Low</td>\n",
       "      <td>1</td>\n",
       "      <td>1</td>\n",
       "      <td>5</td>\n",
       "      <td>Yes</td>\n",
       "      <td>167.50</td>\n",
       "      <td>136</td>\n",
       "      <td>65</td>\n",
       "      <td>71</td>\n",
       "      <td>398</td>\n",
       "    </tr>\n",
       "    <tr>\n",
       "      <th>17972</th>\n",
       "      <td>17997</td>\n",
       "      <td>No</td>\n",
       "      <td>Cash Back</td>\n",
       "      <td>Letter</td>\n",
       "      <td>High</td>\n",
       "      <td>1</td>\n",
       "      <td>No</td>\n",
       "      <td>Low</td>\n",
       "      <td>3</td>\n",
       "      <td>1</td>\n",
       "      <td>3</td>\n",
       "      <td>Yes</td>\n",
       "      <td>850.50</td>\n",
       "      <td>984</td>\n",
       "      <td>940</td>\n",
       "      <td>943</td>\n",
       "      <td>535</td>\n",
       "    </tr>\n",
       "    <tr>\n",
       "      <th>17973</th>\n",
       "      <td>17998</td>\n",
       "      <td>No</td>\n",
       "      <td>Cash Back</td>\n",
       "      <td>Letter</td>\n",
       "      <td>High</td>\n",
       "      <td>1</td>\n",
       "      <td>No</td>\n",
       "      <td>Low</td>\n",
       "      <td>2</td>\n",
       "      <td>1</td>\n",
       "      <td>4</td>\n",
       "      <td>No</td>\n",
       "      <td>1087.25</td>\n",
       "      <td>918</td>\n",
       "      <td>767</td>\n",
       "      <td>1170</td>\n",
       "      <td>1494</td>\n",
       "    </tr>\n",
       "    <tr>\n",
       "      <th>17974</th>\n",
       "      <td>17999</td>\n",
       "      <td>No</td>\n",
       "      <td>Cash Back</td>\n",
       "      <td>Letter</td>\n",
       "      <td>Medium</td>\n",
       "      <td>1</td>\n",
       "      <td>No</td>\n",
       "      <td>Medium</td>\n",
       "      <td>4</td>\n",
       "      <td>2</td>\n",
       "      <td>2</td>\n",
       "      <td>Yes</td>\n",
       "      <td>1022.25</td>\n",
       "      <td>626</td>\n",
       "      <td>983</td>\n",
       "      <td>865</td>\n",
       "      <td>1615</td>\n",
       "    </tr>\n",
       "    <tr>\n",
       "      <th>17975</th>\n",
       "      <td>18000</td>\n",
       "      <td>No</td>\n",
       "      <td>Cash Back</td>\n",
       "      <td>Letter</td>\n",
       "      <td>Low</td>\n",
       "      <td>2</td>\n",
       "      <td>No</td>\n",
       "      <td>Medium</td>\n",
       "      <td>2</td>\n",
       "      <td>1</td>\n",
       "      <td>3</td>\n",
       "      <td>No</td>\n",
       "      <td>1056.00</td>\n",
       "      <td>265</td>\n",
       "      <td>1378</td>\n",
       "      <td>1978</td>\n",
       "      <td>603</td>\n",
       "    </tr>\n",
       "  </tbody>\n",
       "</table>\n",
       "<p>17976 rows × 17 columns</p>\n",
       "</div>"
      ],
      "text/plain": [
       "       customer_number offer_accepted     reward mailer_type income_level  \\\n",
       "0                    1             No  Air Miles      Letter         High   \n",
       "1                    2             No  Air Miles      Letter       Medium   \n",
       "2                    3             No  Air Miles    Postcard         High   \n",
       "3                    4             No  Air Miles      Letter       Medium   \n",
       "4                    5             No  Air Miles      Letter       Medium   \n",
       "...                ...            ...        ...         ...          ...   \n",
       "17971            17996             No  Cash Back      Letter         High   \n",
       "17972            17997             No  Cash Back      Letter         High   \n",
       "17973            17998             No  Cash Back      Letter         High   \n",
       "17974            17999             No  Cash Back      Letter       Medium   \n",
       "17975            18000             No  Cash Back      Letter          Low   \n",
       "\n",
       "       bank_accounts_open overdraft_protection credit_rating  \\\n",
       "0                       1                   No          High   \n",
       "1                       1                   No        Medium   \n",
       "2                       2                   No        Medium   \n",
       "3                       2                   No          High   \n",
       "4                       1                   No        Medium   \n",
       "...                   ...                  ...           ...   \n",
       "17971                   1                   No           Low   \n",
       "17972                   1                   No           Low   \n",
       "17973                   1                   No           Low   \n",
       "17974                   1                   No        Medium   \n",
       "17975                   2                   No        Medium   \n",
       "\n",
       "       credit_cards_held  homes_owned  household_size own_your_home  balance  \\\n",
       "0                      2            1               4            No  1160.75   \n",
       "1                      2            2               5           Yes   147.25   \n",
       "2                      2            1               2           Yes   276.50   \n",
       "3                      1            1               4            No  1219.00   \n",
       "4                      2            1               6           Yes  1211.00   \n",
       "...                  ...          ...             ...           ...      ...   \n",
       "17971                  1            1               5           Yes   167.50   \n",
       "17972                  3            1               3           Yes   850.50   \n",
       "17973                  2            1               4            No  1087.25   \n",
       "17974                  4            2               2           Yes  1022.25   \n",
       "17975                  2            1               3            No  1056.00   \n",
       "\n",
       "       average_balance_q1  average_balance_q2  average_balance_q3  \\\n",
       "0                    1669                 877                1095   \n",
       "1                      39                 106                  78   \n",
       "2                     367                 352                 145   \n",
       "3                    1578                1760                1119   \n",
       "4                    2140                1357                 982   \n",
       "...                   ...                 ...                 ...   \n",
       "17971                 136                  65                  71   \n",
       "17972                 984                 940                 943   \n",
       "17973                 918                 767                1170   \n",
       "17974                 626                 983                 865   \n",
       "17975                 265                1378                1978   \n",
       "\n",
       "       average_balance_q4  \n",
       "0                    1002  \n",
       "1                     366  \n",
       "2                     242  \n",
       "3                     419  \n",
       "4                     365  \n",
       "...                   ...  \n",
       "17971                 398  \n",
       "17972                 535  \n",
       "17973                1494  \n",
       "17974                1615  \n",
       "17975                 603  \n",
       "\n",
       "[17976 rows x 17 columns]"
      ]
     },
     "execution_count": 5,
     "metadata": {},
     "output_type": "execute_result"
    }
   ],
   "source": [
    "query=\"\"\"select * from credit_card_classification.credit_card_data_2\"\"\"\n",
    "data = pd.read_sql_query(query, engine)\n",
    "data"
   ]
  },
  {
   "cell_type": "markdown",
   "metadata": {},
   "source": [
    "Note, 24 rows were dropped by MySQL in the import from the original CSV file to SQL, because some columns were empty (balance & co). We estimate that 24 out of a total of 18000 is not significant.\n",
    "\n",
    "Next, we make a copy of the original dataframe so that we can use it again later"
   ]
  },
  {
   "cell_type": "code",
   "execution_count": 426,
   "metadata": {},
   "outputs": [],
   "source": [
    "data2 = data.copy()"
   ]
  },
  {
   "cell_type": "markdown",
   "metadata": {},
   "source": [
    "# 3. Clean the data"
   ]
  },
  {
   "cell_type": "markdown",
   "metadata": {},
   "source": [
    "Check for nulls and see data types"
   ]
  },
  {
   "cell_type": "code",
   "execution_count": 35,
   "metadata": {
    "collapsed": true
   },
   "outputs": [
    {
     "name": "stdout",
     "output_type": "stream",
     "text": [
      "<class 'pandas.core.frame.DataFrame'>\n",
      "RangeIndex: 17976 entries, 0 to 17975\n",
      "Data columns (total 17 columns):\n",
      " #   Column                Non-Null Count  Dtype  \n",
      "---  ------                --------------  -----  \n",
      " 0   customer_number       17976 non-null  int64  \n",
      " 1   offer_accepted        17976 non-null  object \n",
      " 2   reward                17976 non-null  object \n",
      " 3   mailer_type           17976 non-null  object \n",
      " 4   income_level          17976 non-null  object \n",
      " 5   bank_accounts_open    17976 non-null  int64  \n",
      " 6   overdraft_protection  17976 non-null  object \n",
      " 7   credit_rating         17976 non-null  object \n",
      " 8   credit_cards_held     17976 non-null  int64  \n",
      " 9   homes_owned           17976 non-null  int64  \n",
      " 10  household_size        17976 non-null  int64  \n",
      " 11  own_your_home         17976 non-null  object \n",
      " 12  balance               17976 non-null  float64\n",
      " 13  average_balance_q1    17976 non-null  int64  \n",
      " 14  average_balance_q2    17976 non-null  int64  \n",
      " 15  average_balance_q3    17976 non-null  int64  \n",
      " 16  average_balance_q4    17976 non-null  int64  \n",
      "dtypes: float64(1), int64(9), object(7)\n",
      "memory usage: 2.3+ MB\n"
     ]
    },
    {
     "data": {
      "text/plain": [
       "None"
      ]
     },
     "metadata": {},
     "output_type": "display_data"
    },
    {
     "data": {
      "text/plain": [
       "customer_number         0\n",
       "offer_accepted          0\n",
       "reward                  0\n",
       "mailer_type             0\n",
       "income_level            0\n",
       "bank_accounts_open      0\n",
       "overdraft_protection    0\n",
       "credit_rating           0\n",
       "credit_cards_held       0\n",
       "homes_owned             0\n",
       "household_size          0\n",
       "own_your_home           0\n",
       "balance                 0\n",
       "average_balance_q1      0\n",
       "average_balance_q2      0\n",
       "average_balance_q3      0\n",
       "average_balance_q4      0\n",
       "dtype: int64"
      ]
     },
     "metadata": {},
     "output_type": "display_data"
    }
   ],
   "source": [
    "display(data2.info())\n",
    "display(data2.isna().sum())"
   ]
  },
  {
   "cell_type": "markdown",
   "metadata": {},
   "source": [
    "Check value counts to see if the data is imbalanced\n",
    "\n",
    "We see aswell that the data imported was already cleaned as there are no further null values as those 24 previously mentioned.\n",
    "\n",
    "We doublecheck using isna() and we see we get the same results."
   ]
  },
  {
   "cell_type": "markdown",
   "metadata": {},
   "source": [
    "# 4. Explore the data, select features to be used for the model"
   ]
  },
  {
   "cell_type": "code",
   "execution_count": 427,
   "metadata": {
    "collapsed": true
   },
   "outputs": [
    {
     "data": {
      "text/plain": [
       "No     16955\n",
       "Yes     1021\n",
       "Name: offer_accepted, dtype: int64"
      ]
     },
     "metadata": {},
     "output_type": "display_data"
    },
    {
     "data": {
      "text/plain": [
       "Air Miles    6047\n",
       "Cash Back    5995\n",
       "Points       5934\n",
       "Name: reward, dtype: int64"
      ]
     },
     "metadata": {},
     "output_type": "display_data"
    },
    {
     "data": {
      "text/plain": [
       "Postcard    9134\n",
       "Letter      8842\n",
       "Name: mailer_type, dtype: int64"
      ]
     },
     "metadata": {},
     "output_type": "display_data"
    },
    {
     "data": {
      "text/plain": [
       "Medium    9002\n",
       "High      4519\n",
       "Low       4455\n",
       "Name: income_level, dtype: int64"
      ]
     },
     "metadata": {},
     "output_type": "display_data"
    },
    {
     "data": {
      "text/plain": [
       "1    13674\n",
       "2     4007\n",
       "3      295\n",
       "Name: bank_accounts_open, dtype: int64"
      ]
     },
     "metadata": {},
     "output_type": "display_data"
    },
    {
     "data": {
      "text/plain": [
       "No     15300\n",
       "Yes     2676\n",
       "Name: overdraft_protection, dtype: int64"
      ]
     },
     "metadata": {},
     "output_type": "display_data"
    },
    {
     "data": {
      "text/plain": [
       "High      6064\n",
       "Medium    5964\n",
       "Low       5948\n",
       "Name: credit_rating, dtype: int64"
      ]
     },
     "metadata": {},
     "output_type": "display_data"
    },
    {
     "data": {
      "text/plain": [
       "2    7933\n",
       "1    6147\n",
       "3    3381\n",
       "4     515\n",
       "Name: credit_cards_held, dtype: int64"
      ]
     },
     "metadata": {},
     "output_type": "display_data"
    },
    {
     "data": {
      "text/plain": [
       "1    14502\n",
       "2     3289\n",
       "3      185\n",
       "Name: homes_owned, dtype: int64"
      ]
     },
     "metadata": {},
     "output_type": "display_data"
    },
    {
     "data": {
      "text/plain": [
       "3    5705\n",
       "4    5532\n",
       "5    2851\n",
       "2    2809\n",
       "1     539\n",
       "6     538\n",
       "9       1\n",
       "8       1\n",
       "Name: household_size, dtype: int64"
      ]
     },
     "metadata": {},
     "output_type": "display_data"
    },
    {
     "data": {
      "text/plain": [
       "Yes    11636\n",
       "No      6340\n",
       "Name: own_your_home, dtype: int64"
      ]
     },
     "metadata": {},
     "output_type": "display_data"
    }
   ],
   "source": [
    "# We now set the dataframe index to be the customer_number so that it is not used for the model but, \n",
    "# we don't lose the information in case we need it afterwards.\n",
    "data2.set_index('customer_number', inplace=True) \n",
    "\n",
    "# we remove the first element of the list \"Customer number\" since all of the ids are going to be different. \n",
    "# We also remove the balance features due to the same reason.\n",
    "columns = list(data2.columns)\n",
    "del columns[11:]\n",
    "\n",
    "for col in columns:\n",
    "    display(data2[col].value_counts())"
   ]
  },
  {
   "cell_type": "markdown",
   "metadata": {},
   "source": [
    "We see that our dependent feature, \"offer accepted\" is very imbalanced. This will lead to bad results of the ML model, we will most likely need to use oversampling techniques. \n",
    "\n",
    "In addition, household size could be problematic for households higher than 6.\n"
   ]
  },
  {
   "cell_type": "code",
   "execution_count": 86,
   "metadata": {
    "collapsed": true
   },
   "outputs": [
    {
     "data": {
      "text/plain": [
       "'Correlation matrix among all numerical variables'"
      ]
     },
     "metadata": {},
     "output_type": "display_data"
    },
    {
     "data": {
      "text/html": [
       "<div>\n",
       "<style scoped>\n",
       "    .dataframe tbody tr th:only-of-type {\n",
       "        vertical-align: middle;\n",
       "    }\n",
       "\n",
       "    .dataframe tbody tr th {\n",
       "        vertical-align: top;\n",
       "    }\n",
       "\n",
       "    .dataframe thead th {\n",
       "        text-align: right;\n",
       "    }\n",
       "</style>\n",
       "<table border=\"1\" class=\"dataframe\">\n",
       "  <thead>\n",
       "    <tr style=\"text-align: right;\">\n",
       "      <th></th>\n",
       "      <th>bank_accounts_open</th>\n",
       "      <th>credit_cards_held</th>\n",
       "      <th>homes_owned</th>\n",
       "      <th>household_size</th>\n",
       "      <th>balance</th>\n",
       "      <th>average_balance_q1</th>\n",
       "      <th>average_balance_q2</th>\n",
       "      <th>average_balance_q3</th>\n",
       "      <th>average_balance_q4</th>\n",
       "    </tr>\n",
       "  </thead>\n",
       "  <tbody>\n",
       "    <tr>\n",
       "      <th>bank_accounts_open</th>\n",
       "      <td>1.000000</td>\n",
       "      <td>-0.001633</td>\n",
       "      <td>0.004762</td>\n",
       "      <td>0.008622</td>\n",
       "      <td>-0.003909</td>\n",
       "      <td>-0.002814</td>\n",
       "      <td>-0.007956</td>\n",
       "      <td>0.000190</td>\n",
       "      <td>-0.000356</td>\n",
       "    </tr>\n",
       "    <tr>\n",
       "      <th>credit_cards_held</th>\n",
       "      <td>-0.001633</td>\n",
       "      <td>1.000000</td>\n",
       "      <td>-0.002390</td>\n",
       "      <td>-0.003040</td>\n",
       "      <td>-0.003469</td>\n",
       "      <td>-0.009446</td>\n",
       "      <td>-0.007373</td>\n",
       "      <td>-0.007623</td>\n",
       "      <td>0.015362</td>\n",
       "    </tr>\n",
       "    <tr>\n",
       "      <th>homes_owned</th>\n",
       "      <td>0.004762</td>\n",
       "      <td>-0.002390</td>\n",
       "      <td>1.000000</td>\n",
       "      <td>0.005227</td>\n",
       "      <td>0.017967</td>\n",
       "      <td>0.013143</td>\n",
       "      <td>0.009758</td>\n",
       "      <td>0.007775</td>\n",
       "      <td>0.014775</td>\n",
       "    </tr>\n",
       "    <tr>\n",
       "      <th>household_size</th>\n",
       "      <td>0.008622</td>\n",
       "      <td>-0.003040</td>\n",
       "      <td>0.005227</td>\n",
       "      <td>1.000000</td>\n",
       "      <td>-0.003582</td>\n",
       "      <td>-0.005080</td>\n",
       "      <td>-0.008766</td>\n",
       "      <td>0.003633</td>\n",
       "      <td>0.000232</td>\n",
       "    </tr>\n",
       "    <tr>\n",
       "      <th>balance</th>\n",
       "      <td>-0.003909</td>\n",
       "      <td>-0.003469</td>\n",
       "      <td>0.017967</td>\n",
       "      <td>-0.003582</td>\n",
       "      <td>1.000000</td>\n",
       "      <td>0.481507</td>\n",
       "      <td>0.800285</td>\n",
       "      <td>0.752741</td>\n",
       "      <td>0.572380</td>\n",
       "    </tr>\n",
       "    <tr>\n",
       "      <th>average_balance_q1</th>\n",
       "      <td>-0.002814</td>\n",
       "      <td>-0.009446</td>\n",
       "      <td>0.013143</td>\n",
       "      <td>-0.005080</td>\n",
       "      <td>0.481507</td>\n",
       "      <td>1.000000</td>\n",
       "      <td>0.483134</td>\n",
       "      <td>-0.060961</td>\n",
       "      <td>-0.237283</td>\n",
       "    </tr>\n",
       "    <tr>\n",
       "      <th>average_balance_q2</th>\n",
       "      <td>-0.007956</td>\n",
       "      <td>-0.007373</td>\n",
       "      <td>0.009758</td>\n",
       "      <td>-0.008766</td>\n",
       "      <td>0.800285</td>\n",
       "      <td>0.483134</td>\n",
       "      <td>1.000000</td>\n",
       "      <td>0.487710</td>\n",
       "      <td>0.168955</td>\n",
       "    </tr>\n",
       "    <tr>\n",
       "      <th>average_balance_q3</th>\n",
       "      <td>0.000190</td>\n",
       "      <td>-0.007623</td>\n",
       "      <td>0.007775</td>\n",
       "      <td>0.003633</td>\n",
       "      <td>0.752741</td>\n",
       "      <td>-0.060961</td>\n",
       "      <td>0.487710</td>\n",
       "      <td>1.000000</td>\n",
       "      <td>0.565298</td>\n",
       "    </tr>\n",
       "    <tr>\n",
       "      <th>average_balance_q4</th>\n",
       "      <td>-0.000356</td>\n",
       "      <td>0.015362</td>\n",
       "      <td>0.014775</td>\n",
       "      <td>0.000232</td>\n",
       "      <td>0.572380</td>\n",
       "      <td>-0.237283</td>\n",
       "      <td>0.168955</td>\n",
       "      <td>0.565298</td>\n",
       "      <td>1.000000</td>\n",
       "    </tr>\n",
       "  </tbody>\n",
       "</table>\n",
       "</div>"
      ],
      "text/plain": [
       "                    bank_accounts_open  credit_cards_held  homes_owned  \\\n",
       "bank_accounts_open            1.000000          -0.001633     0.004762   \n",
       "credit_cards_held            -0.001633           1.000000    -0.002390   \n",
       "homes_owned                   0.004762          -0.002390     1.000000   \n",
       "household_size                0.008622          -0.003040     0.005227   \n",
       "balance                      -0.003909          -0.003469     0.017967   \n",
       "average_balance_q1           -0.002814          -0.009446     0.013143   \n",
       "average_balance_q2           -0.007956          -0.007373     0.009758   \n",
       "average_balance_q3            0.000190          -0.007623     0.007775   \n",
       "average_balance_q4           -0.000356           0.015362     0.014775   \n",
       "\n",
       "                    household_size   balance  average_balance_q1  \\\n",
       "bank_accounts_open        0.008622 -0.003909           -0.002814   \n",
       "credit_cards_held        -0.003040 -0.003469           -0.009446   \n",
       "homes_owned               0.005227  0.017967            0.013143   \n",
       "household_size            1.000000 -0.003582           -0.005080   \n",
       "balance                  -0.003582  1.000000            0.481507   \n",
       "average_balance_q1       -0.005080  0.481507            1.000000   \n",
       "average_balance_q2       -0.008766  0.800285            0.483134   \n",
       "average_balance_q3        0.003633  0.752741           -0.060961   \n",
       "average_balance_q4        0.000232  0.572380           -0.237283   \n",
       "\n",
       "                    average_balance_q2  average_balance_q3  average_balance_q4  \n",
       "bank_accounts_open           -0.007956            0.000190           -0.000356  \n",
       "credit_cards_held            -0.007373           -0.007623            0.015362  \n",
       "homes_owned                   0.009758            0.007775            0.014775  \n",
       "household_size               -0.008766            0.003633            0.000232  \n",
       "balance                       0.800285            0.752741            0.572380  \n",
       "average_balance_q1            0.483134           -0.060961           -0.237283  \n",
       "average_balance_q2            1.000000            0.487710            0.168955  \n",
       "average_balance_q3            0.487710            1.000000            0.565298  \n",
       "average_balance_q4            0.168955            0.565298            1.000000  "
      ]
     },
     "metadata": {},
     "output_type": "display_data"
    },
    {
     "data": {
      "image/png": "[encoded data removed]",
      "text/plain": [
       "<Figure size 1440x1728 with 2 Axes>"
      ]
     },
     "metadata": {
      "needs_background": "light"
     },
     "output_type": "display_data"
    }
   ],
   "source": [
    "display('Correlation matrix among all numerical variables')\n",
    "correlation_matrix = data2.select_dtypes(exclude='object').corr()\n",
    "display(correlation_matrix)\n",
    "plt.figure(figsize=(20, 24))\n",
    "ax = sns.heatmap(correlation_matrix, annot=True, cmap='Blues', fmt='.2g') \n",
    "plt.show()"
   ]
  },
  {
   "cell_type": "markdown",
   "metadata": {},
   "source": [
    "We see, in most cases, a low correlation between the independent features, which is a good result for our model.\n",
    "\n",
    "Except for the average balance and the quarters, which makes sense since balance is the average of the other 4."
   ]
  },
  {
   "cell_type": "markdown",
   "metadata": {},
   "source": [
    "Let's see the distribution of the numerical features."
   ]
  },
  {
   "cell_type": "code",
   "execution_count": 87,
   "metadata": {
    "collapsed": true
   },
   "outputs": [
    {
     "data": {
      "image/png": "[encoded data removed]",
      "text/plain": [
       "<Figure size 360x360 with 1 Axes>"
      ]
     },
     "metadata": {
      "needs_background": "light"
     },
     "output_type": "display_data"
    },
    {
     "data": {
      "image/png": "[encoded data removed]",
      "text/plain": [
       "<Figure size 360x360 with 1 Axes>"
      ]
     },
     "metadata": {
      "needs_background": "light"
     },
     "output_type": "display_data"
    },
    {
     "data": {
      "image/png": "[encoded data removed]",
      "text/plain": [
       "<Figure size 360x360 with 1 Axes>"
      ]
     },
     "metadata": {
      "needs_background": "light"
     },
     "output_type": "display_data"
    },
    {
     "data": {
      "image/png": "[encoded data removed]",
      "text/plain": [
       "<Figure size 360x360 with 1 Axes>"
      ]
     },
     "metadata": {
      "needs_background": "light"
     },
     "output_type": "display_data"
    },
    {
     "data": {
      "image/png": "[encoded data removed]",
      "text/plain": [
       "<Figure size 360x360 with 1 Axes>"
      ]
     },
     "metadata": {
      "needs_background": "light"
     },
     "output_type": "display_data"
    },
    {
     "data": {
      "image/png": "[encoded data removed]",
      "text/plain": [
       "<Figure size 360x360 with 1 Axes>"
      ]
     },
     "metadata": {
      "needs_background": "light"
     },
     "output_type": "display_data"
    },
    {
     "data": {
      "image/png": "[encoded data removed]",
      "text/plain": [
       "<Figure size 360x360 with 1 Axes>"
      ]
     },
     "metadata": {
      "needs_background": "light"
     },
     "output_type": "display_data"
    },
    {
     "data": {
      "image/png": "[encoded data removed]",
      "text/plain": [
       "<Figure size 360x360 with 1 Axes>"
      ]
     },
     "metadata": {
      "needs_background": "light"
     },
     "output_type": "display_data"
    },
    {
     "data": {
      "image/png": "[encoded data removed]",
      "text/plain": [
       "<Figure size 360x360 with 1 Axes>"
      ]
     },
     "metadata": {
      "needs_background": "light"
     },
     "output_type": "display_data"
    }
   ],
   "source": [
    "for col in data2.select_dtypes(exclude='object').columns:\n",
    "    sns.displot(data2[col])\n",
    "    plt.show()"
   ]
  },
  {
   "cell_type": "markdown",
   "metadata": {},
   "source": [
    "# What do we say about the distribution graphs??????????????????"
   ]
  },
  {
   "cell_type": "markdown",
   "metadata": {},
   "source": [
    "### VIF calculation for numerical features"
   ]
  },
  {
   "cell_type": "code",
   "execution_count": 78,
   "metadata": {
    "collapsed": true
   },
   "outputs": [
    {
     "name": "stderr",
     "output_type": "stream",
     "text": [
      "C:\\Users\\Borja\\Anaconda3\\lib\\site-packages\\statsmodels\\stats\\outliers_influence.py:185: RuntimeWarning: divide by zero encountered in double_scalars\n",
      "  vif = 1. / (1. - r_squared_i)\n"
     ]
    },
    {
     "data": {
      "text/html": [
       "<div>\n",
       "<style scoped>\n",
       "    .dataframe tbody tr th:only-of-type {\n",
       "        vertical-align: middle;\n",
       "    }\n",
       "\n",
       "    .dataframe tbody tr th {\n",
       "        vertical-align: top;\n",
       "    }\n",
       "\n",
       "    .dataframe thead th {\n",
       "        text-align: right;\n",
       "    }\n",
       "</style>\n",
       "<table border=\"1\" class=\"dataframe\">\n",
       "  <thead>\n",
       "    <tr style=\"text-align: right;\">\n",
       "      <th></th>\n",
       "      <th>variable</th>\n",
       "      <th>VIF</th>\n",
       "    </tr>\n",
       "  </thead>\n",
       "  <tbody>\n",
       "    <tr>\n",
       "      <th>0</th>\n",
       "      <td>bank_accounts_open</td>\n",
       "      <td>6.614891</td>\n",
       "    </tr>\n",
       "    <tr>\n",
       "      <th>1</th>\n",
       "      <td>credit_cards_held</td>\n",
       "      <td>5.688677</td>\n",
       "    </tr>\n",
       "    <tr>\n",
       "      <th>2</th>\n",
       "      <td>homes_owned</td>\n",
       "      <td>7.187923</td>\n",
       "    </tr>\n",
       "    <tr>\n",
       "      <th>3</th>\n",
       "      <td>household_size</td>\n",
       "      <td>8.113760</td>\n",
       "    </tr>\n",
       "    <tr>\n",
       "      <th>4</th>\n",
       "      <td>balance</td>\n",
       "      <td>inf</td>\n",
       "    </tr>\n",
       "    <tr>\n",
       "      <th>5</th>\n",
       "      <td>average_balance_q1</td>\n",
       "      <td>inf</td>\n",
       "    </tr>\n",
       "    <tr>\n",
       "      <th>6</th>\n",
       "      <td>average_balance_q2</td>\n",
       "      <td>inf</td>\n",
       "    </tr>\n",
       "    <tr>\n",
       "      <th>7</th>\n",
       "      <td>average_balance_q3</td>\n",
       "      <td>inf</td>\n",
       "    </tr>\n",
       "    <tr>\n",
       "      <th>8</th>\n",
       "      <td>average_balance_q4</td>\n",
       "      <td>inf</td>\n",
       "    </tr>\n",
       "  </tbody>\n",
       "</table>\n",
       "</div>"
      ],
      "text/plain": [
       "             variable       VIF\n",
       "0  bank_accounts_open  6.614891\n",
       "1   credit_cards_held  5.688677\n",
       "2         homes_owned  7.187923\n",
       "3      household_size  8.113760\n",
       "4             balance       inf\n",
       "5  average_balance_q1       inf\n",
       "6  average_balance_q2       inf\n",
       "7  average_balance_q3       inf\n",
       "8  average_balance_q4       inf"
      ]
     },
     "metadata": {},
     "output_type": "display_data"
    }
   ],
   "source": [
    "vif = pd.DataFrame()\n",
    "vif['variable'] = data2.select_dtypes(exclude='object').columns\n",
    "vif['VIF'] = [variance_inflation_factor(data2.select_dtypes(exclude='object').values, i) for i in range(data2.select_dtypes(exclude='object').shape[1])]\n",
    "\n",
    "\n",
    "display(vif)"
   ]
  },
  {
   "cell_type": "markdown",
   "metadata": {},
   "source": [
    "VIF determines the strength of the correlation between the independent variables. It is predicted by taking a variable and regressing it against every other variable.\n",
    "\n",
    "VIF explanation:\n",
    "- VIF starts at 1 and has no upper limit\n",
    "- VIF = 1, no correlation between the independent variable and the other variables\n",
    "- VIF exceeding 5 or 10 indicates high multicollinearity between this independent variable and the others\n"
   ]
  },
  {
   "cell_type": "markdown",
   "metadata": {},
   "source": [
    "Based on these results, we decide to drop the columns with a VIF higher than 5. \n",
    "\n",
    "The inf results for the balance its due to the fact that the quarters are related to the balance. "
   ]
  },
  {
   "cell_type": "markdown",
   "metadata": {},
   "source": [
    "# Dataset scenarios - numerical features\n",
    "we tried different options regarding the features. \n",
    "Due to the high correlation between balance and the acg balance of the quarters, we thought about dropping it however,\n",
    "the results were always worse than keeping it as a feature for the model. Therefore, we decided to go for \n",
    "scenario 2, where we drop the numerical features with a VIF higher than 5.\n",
    "\n"
   ]
  },
  {
   "cell_type": "code",
   "execution_count": 428,
   "metadata": {},
   "outputs": [],
   "source": [
    "# Different scenarios we've tested:\n",
    "#1. not dropping\n",
    "#2. dropping features with VIF >5\n",
    "#data2 = data2.drop(['bank_accounts_open','credit_cards_held','homes_owned','household_size'], axis=1)\n",
    "#3. dropping in addition to 2. the avg balance\n",
    "data2 = data2.drop(['bank_accounts_open','credit_cards_held','homes_owned','household_size','balance'], axis=1)\n",
    "#4. dropping in addition to 3 the average_balance_q2 and average_balance_q3 which had a VIF >5 after dropping avg balance\n",
    "#data2 = data2.drop(['bank_accounts_open','credit_cards_held','homes_owned','household_size','balance','average_balance_q2','average_balance_q3'], axis=1)\n",
    "#5. dropping in addition to 3 the average_balance_q2 and average_balance_q3 \n",
    "#data2 = data2.drop(['bank_accounts_open','credit_cards_held','homes_owned','household_size','average_balance_q2','average_balance_q3'], axis=1)\n"
   ]
  },
  {
   "cell_type": "markdown",
   "metadata": {
    "scrolled": true
   },
   "source": [
    "## Categorical conversion\n",
    "We will now convert all categorical to numbers so that we can check the correlation\n",
    "\n",
    "To reduce the number of columns of our dataframe, we will see which columns can be treated as categorical ordinals. For the rest, we will use getdummies."
   ]
  },
  {
   "cell_type": "code",
   "execution_count": 429,
   "metadata": {},
   "outputs": [
    {
     "data": {
      "text/html": [
       "<div>\n",
       "<style scoped>\n",
       "    .dataframe tbody tr th:only-of-type {\n",
       "        vertical-align: middle;\n",
       "    }\n",
       "\n",
       "    .dataframe tbody tr th {\n",
       "        vertical-align: top;\n",
       "    }\n",
       "\n",
       "    .dataframe thead th {\n",
       "        text-align: right;\n",
       "    }\n",
       "</style>\n",
       "<table border=\"1\" class=\"dataframe\">\n",
       "  <thead>\n",
       "    <tr style=\"text-align: right;\">\n",
       "      <th></th>\n",
       "      <th>offer_accepted</th>\n",
       "      <th>reward</th>\n",
       "      <th>mailer_type</th>\n",
       "      <th>income_level</th>\n",
       "      <th>overdraft_protection</th>\n",
       "      <th>credit_rating</th>\n",
       "      <th>own_your_home</th>\n",
       "      <th>average_balance_q1</th>\n",
       "      <th>average_balance_q2</th>\n",
       "      <th>average_balance_q3</th>\n",
       "      <th>average_balance_q4</th>\n",
       "    </tr>\n",
       "    <tr>\n",
       "      <th>customer_number</th>\n",
       "      <th></th>\n",
       "      <th></th>\n",
       "      <th></th>\n",
       "      <th></th>\n",
       "      <th></th>\n",
       "      <th></th>\n",
       "      <th></th>\n",
       "      <th></th>\n",
       "      <th></th>\n",
       "      <th></th>\n",
       "      <th></th>\n",
       "    </tr>\n",
       "  </thead>\n",
       "  <tbody>\n",
       "    <tr>\n",
       "      <th>1</th>\n",
       "      <td>0</td>\n",
       "      <td>Air Miles</td>\n",
       "      <td>1</td>\n",
       "      <td>2</td>\n",
       "      <td>0</td>\n",
       "      <td>2</td>\n",
       "      <td>0</td>\n",
       "      <td>1669</td>\n",
       "      <td>877</td>\n",
       "      <td>1095</td>\n",
       "      <td>1002</td>\n",
       "    </tr>\n",
       "    <tr>\n",
       "      <th>2</th>\n",
       "      <td>0</td>\n",
       "      <td>Air Miles</td>\n",
       "      <td>1</td>\n",
       "      <td>1</td>\n",
       "      <td>0</td>\n",
       "      <td>1</td>\n",
       "      <td>1</td>\n",
       "      <td>39</td>\n",
       "      <td>106</td>\n",
       "      <td>78</td>\n",
       "      <td>366</td>\n",
       "    </tr>\n",
       "    <tr>\n",
       "      <th>3</th>\n",
       "      <td>0</td>\n",
       "      <td>Air Miles</td>\n",
       "      <td>0</td>\n",
       "      <td>2</td>\n",
       "      <td>0</td>\n",
       "      <td>1</td>\n",
       "      <td>1</td>\n",
       "      <td>367</td>\n",
       "      <td>352</td>\n",
       "      <td>145</td>\n",
       "      <td>242</td>\n",
       "    </tr>\n",
       "    <tr>\n",
       "      <th>4</th>\n",
       "      <td>0</td>\n",
       "      <td>Air Miles</td>\n",
       "      <td>1</td>\n",
       "      <td>1</td>\n",
       "      <td>0</td>\n",
       "      <td>2</td>\n",
       "      <td>0</td>\n",
       "      <td>1578</td>\n",
       "      <td>1760</td>\n",
       "      <td>1119</td>\n",
       "      <td>419</td>\n",
       "    </tr>\n",
       "    <tr>\n",
       "      <th>5</th>\n",
       "      <td>0</td>\n",
       "      <td>Air Miles</td>\n",
       "      <td>1</td>\n",
       "      <td>1</td>\n",
       "      <td>0</td>\n",
       "      <td>1</td>\n",
       "      <td>1</td>\n",
       "      <td>2140</td>\n",
       "      <td>1357</td>\n",
       "      <td>982</td>\n",
       "      <td>365</td>\n",
       "    </tr>\n",
       "    <tr>\n",
       "      <th>...</th>\n",
       "      <td>...</td>\n",
       "      <td>...</td>\n",
       "      <td>...</td>\n",
       "      <td>...</td>\n",
       "      <td>...</td>\n",
       "      <td>...</td>\n",
       "      <td>...</td>\n",
       "      <td>...</td>\n",
       "      <td>...</td>\n",
       "      <td>...</td>\n",
       "      <td>...</td>\n",
       "    </tr>\n",
       "    <tr>\n",
       "      <th>17996</th>\n",
       "      <td>0</td>\n",
       "      <td>Cash Back</td>\n",
       "      <td>1</td>\n",
       "      <td>2</td>\n",
       "      <td>0</td>\n",
       "      <td>0</td>\n",
       "      <td>1</td>\n",
       "      <td>136</td>\n",
       "      <td>65</td>\n",
       "      <td>71</td>\n",
       "      <td>398</td>\n",
       "    </tr>\n",
       "    <tr>\n",
       "      <th>17997</th>\n",
       "      <td>0</td>\n",
       "      <td>Cash Back</td>\n",
       "      <td>1</td>\n",
       "      <td>2</td>\n",
       "      <td>0</td>\n",
       "      <td>0</td>\n",
       "      <td>1</td>\n",
       "      <td>984</td>\n",
       "      <td>940</td>\n",
       "      <td>943</td>\n",
       "      <td>535</td>\n",
       "    </tr>\n",
       "    <tr>\n",
       "      <th>17998</th>\n",
       "      <td>0</td>\n",
       "      <td>Cash Back</td>\n",
       "      <td>1</td>\n",
       "      <td>2</td>\n",
       "      <td>0</td>\n",
       "      <td>0</td>\n",
       "      <td>0</td>\n",
       "      <td>918</td>\n",
       "      <td>767</td>\n",
       "      <td>1170</td>\n",
       "      <td>1494</td>\n",
       "    </tr>\n",
       "    <tr>\n",
       "      <th>17999</th>\n",
       "      <td>0</td>\n",
       "      <td>Cash Back</td>\n",
       "      <td>1</td>\n",
       "      <td>1</td>\n",
       "      <td>0</td>\n",
       "      <td>1</td>\n",
       "      <td>1</td>\n",
       "      <td>626</td>\n",
       "      <td>983</td>\n",
       "      <td>865</td>\n",
       "      <td>1615</td>\n",
       "    </tr>\n",
       "    <tr>\n",
       "      <th>18000</th>\n",
       "      <td>0</td>\n",
       "      <td>Cash Back</td>\n",
       "      <td>1</td>\n",
       "      <td>0</td>\n",
       "      <td>0</td>\n",
       "      <td>1</td>\n",
       "      <td>0</td>\n",
       "      <td>265</td>\n",
       "      <td>1378</td>\n",
       "      <td>1978</td>\n",
       "      <td>603</td>\n",
       "    </tr>\n",
       "  </tbody>\n",
       "</table>\n",
       "<p>17976 rows × 11 columns</p>\n",
       "</div>"
      ],
      "text/plain": [
       "                 offer_accepted     reward  mailer_type  income_level  \\\n",
       "customer_number                                                         \n",
       "1                             0  Air Miles            1             2   \n",
       "2                             0  Air Miles            1             1   \n",
       "3                             0  Air Miles            0             2   \n",
       "4                             0  Air Miles            1             1   \n",
       "5                             0  Air Miles            1             1   \n",
       "...                         ...        ...          ...           ...   \n",
       "17996                         0  Cash Back            1             2   \n",
       "17997                         0  Cash Back            1             2   \n",
       "17998                         0  Cash Back            1             2   \n",
       "17999                         0  Cash Back            1             1   \n",
       "18000                         0  Cash Back            1             0   \n",
       "\n",
       "                 overdraft_protection  credit_rating  own_your_home  \\\n",
       "customer_number                                                       \n",
       "1                                   0              2              0   \n",
       "2                                   0              1              1   \n",
       "3                                   0              1              1   \n",
       "4                                   0              2              0   \n",
       "5                                   0              1              1   \n",
       "...                               ...            ...            ...   \n",
       "17996                               0              0              1   \n",
       "17997                               0              0              1   \n",
       "17998                               0              0              0   \n",
       "17999                               0              1              1   \n",
       "18000                               0              1              0   \n",
       "\n",
       "                 average_balance_q1  average_balance_q2  average_balance_q3  \\\n",
       "customer_number                                                               \n",
       "1                              1669                 877                1095   \n",
       "2                                39                 106                  78   \n",
       "3                               367                 352                 145   \n",
       "4                              1578                1760                1119   \n",
       "5                              2140                1357                 982   \n",
       "...                             ...                 ...                 ...   \n",
       "17996                           136                  65                  71   \n",
       "17997                           984                 940                 943   \n",
       "17998                           918                 767                1170   \n",
       "17999                           626                 983                 865   \n",
       "18000                           265                1378                1978   \n",
       "\n",
       "                 average_balance_q4  \n",
       "customer_number                      \n",
       "1                              1002  \n",
       "2                               366  \n",
       "3                               242  \n",
       "4                               419  \n",
       "5                               365  \n",
       "...                             ...  \n",
       "17996                           398  \n",
       "17997                           535  \n",
       "17998                          1494  \n",
       "17999                          1615  \n",
       "18000                           603  \n",
       "\n",
       "[17976 rows x 11 columns]"
      ]
     },
     "metadata": {},
     "output_type": "display_data"
    }
   ],
   "source": [
    "# Convert categorical ordinal\n",
    "# ordinal categoricals have an order and we can substitute the values in just one column, if we respect the order\n",
    "data2['income_level'] = data2['income_level'].map({'Low':0, 'Medium':1, 'High':2})\n",
    "data2['credit_rating'] = data2['credit_rating'].map({'Low':0, 'Medium':1, 'High':2})\n",
    "\n",
    "# We convert the categoricals that have only 2 choices the same way:\n",
    "data2['offer_accepted'] = data2['offer_accepted'].map({'Yes':1, 'No':0})\n",
    "data2['overdraft_protection'] = data2['overdraft_protection'].map({'Yes':1, 'No':0})\n",
    "data2['own_your_home'] = data2['own_your_home'].map({'Yes':1, 'No':0})\n",
    "data2['mailer_type'] = data2['mailer_type'].map({'Postcard':0, 'Letter':1})\n",
    "\n",
    "display(data2)"
   ]
  },
  {
   "cell_type": "code",
   "execution_count": 430,
   "metadata": {
    "scrolled": true
   },
   "outputs": [
    {
     "data": {
      "text/plain": [
       "'Dataframe without columns to be dummified:'"
      ]
     },
     "metadata": {},
     "output_type": "display_data"
    },
    {
     "data": {
      "text/html": [
       "<div>\n",
       "<style scoped>\n",
       "    .dataframe tbody tr th:only-of-type {\n",
       "        vertical-align: middle;\n",
       "    }\n",
       "\n",
       "    .dataframe tbody tr th {\n",
       "        vertical-align: top;\n",
       "    }\n",
       "\n",
       "    .dataframe thead th {\n",
       "        text-align: right;\n",
       "    }\n",
       "</style>\n",
       "<table border=\"1\" class=\"dataframe\">\n",
       "  <thead>\n",
       "    <tr style=\"text-align: right;\">\n",
       "      <th></th>\n",
       "      <th>offer_accepted</th>\n",
       "      <th>mailer_type</th>\n",
       "      <th>income_level</th>\n",
       "      <th>overdraft_protection</th>\n",
       "      <th>credit_rating</th>\n",
       "      <th>own_your_home</th>\n",
       "      <th>average_balance_q1</th>\n",
       "      <th>average_balance_q2</th>\n",
       "      <th>average_balance_q3</th>\n",
       "      <th>average_balance_q4</th>\n",
       "    </tr>\n",
       "    <tr>\n",
       "      <th>customer_number</th>\n",
       "      <th></th>\n",
       "      <th></th>\n",
       "      <th></th>\n",
       "      <th></th>\n",
       "      <th></th>\n",
       "      <th></th>\n",
       "      <th></th>\n",
       "      <th></th>\n",
       "      <th></th>\n",
       "      <th></th>\n",
       "    </tr>\n",
       "  </thead>\n",
       "  <tbody>\n",
       "    <tr>\n",
       "      <th>1</th>\n",
       "      <td>0</td>\n",
       "      <td>1</td>\n",
       "      <td>2</td>\n",
       "      <td>0</td>\n",
       "      <td>2</td>\n",
       "      <td>0</td>\n",
       "      <td>1669</td>\n",
       "      <td>877</td>\n",
       "      <td>1095</td>\n",
       "      <td>1002</td>\n",
       "    </tr>\n",
       "    <tr>\n",
       "      <th>2</th>\n",
       "      <td>0</td>\n",
       "      <td>1</td>\n",
       "      <td>1</td>\n",
       "      <td>0</td>\n",
       "      <td>1</td>\n",
       "      <td>1</td>\n",
       "      <td>39</td>\n",
       "      <td>106</td>\n",
       "      <td>78</td>\n",
       "      <td>366</td>\n",
       "    </tr>\n",
       "    <tr>\n",
       "      <th>3</th>\n",
       "      <td>0</td>\n",
       "      <td>0</td>\n",
       "      <td>2</td>\n",
       "      <td>0</td>\n",
       "      <td>1</td>\n",
       "      <td>1</td>\n",
       "      <td>367</td>\n",
       "      <td>352</td>\n",
       "      <td>145</td>\n",
       "      <td>242</td>\n",
       "    </tr>\n",
       "    <tr>\n",
       "      <th>4</th>\n",
       "      <td>0</td>\n",
       "      <td>1</td>\n",
       "      <td>1</td>\n",
       "      <td>0</td>\n",
       "      <td>2</td>\n",
       "      <td>0</td>\n",
       "      <td>1578</td>\n",
       "      <td>1760</td>\n",
       "      <td>1119</td>\n",
       "      <td>419</td>\n",
       "    </tr>\n",
       "    <tr>\n",
       "      <th>5</th>\n",
       "      <td>0</td>\n",
       "      <td>1</td>\n",
       "      <td>1</td>\n",
       "      <td>0</td>\n",
       "      <td>1</td>\n",
       "      <td>1</td>\n",
       "      <td>2140</td>\n",
       "      <td>1357</td>\n",
       "      <td>982</td>\n",
       "      <td>365</td>\n",
       "    </tr>\n",
       "    <tr>\n",
       "      <th>...</th>\n",
       "      <td>...</td>\n",
       "      <td>...</td>\n",
       "      <td>...</td>\n",
       "      <td>...</td>\n",
       "      <td>...</td>\n",
       "      <td>...</td>\n",
       "      <td>...</td>\n",
       "      <td>...</td>\n",
       "      <td>...</td>\n",
       "      <td>...</td>\n",
       "    </tr>\n",
       "    <tr>\n",
       "      <th>17996</th>\n",
       "      <td>0</td>\n",
       "      <td>1</td>\n",
       "      <td>2</td>\n",
       "      <td>0</td>\n",
       "      <td>0</td>\n",
       "      <td>1</td>\n",
       "      <td>136</td>\n",
       "      <td>65</td>\n",
       "      <td>71</td>\n",
       "      <td>398</td>\n",
       "    </tr>\n",
       "    <tr>\n",
       "      <th>17997</th>\n",
       "      <td>0</td>\n",
       "      <td>1</td>\n",
       "      <td>2</td>\n",
       "      <td>0</td>\n",
       "      <td>0</td>\n",
       "      <td>1</td>\n",
       "      <td>984</td>\n",
       "      <td>940</td>\n",
       "      <td>943</td>\n",
       "      <td>535</td>\n",
       "    </tr>\n",
       "    <tr>\n",
       "      <th>17998</th>\n",
       "      <td>0</td>\n",
       "      <td>1</td>\n",
       "      <td>2</td>\n",
       "      <td>0</td>\n",
       "      <td>0</td>\n",
       "      <td>0</td>\n",
       "      <td>918</td>\n",
       "      <td>767</td>\n",
       "      <td>1170</td>\n",
       "      <td>1494</td>\n",
       "    </tr>\n",
       "    <tr>\n",
       "      <th>17999</th>\n",
       "      <td>0</td>\n",
       "      <td>1</td>\n",
       "      <td>1</td>\n",
       "      <td>0</td>\n",
       "      <td>1</td>\n",
       "      <td>1</td>\n",
       "      <td>626</td>\n",
       "      <td>983</td>\n",
       "      <td>865</td>\n",
       "      <td>1615</td>\n",
       "    </tr>\n",
       "    <tr>\n",
       "      <th>18000</th>\n",
       "      <td>0</td>\n",
       "      <td>1</td>\n",
       "      <td>0</td>\n",
       "      <td>0</td>\n",
       "      <td>1</td>\n",
       "      <td>0</td>\n",
       "      <td>265</td>\n",
       "      <td>1378</td>\n",
       "      <td>1978</td>\n",
       "      <td>603</td>\n",
       "    </tr>\n",
       "  </tbody>\n",
       "</table>\n",
       "<p>17976 rows × 10 columns</p>\n",
       "</div>"
      ],
      "text/plain": [
       "                 offer_accepted  mailer_type  income_level  \\\n",
       "customer_number                                              \n",
       "1                             0            1             2   \n",
       "2                             0            1             1   \n",
       "3                             0            0             2   \n",
       "4                             0            1             1   \n",
       "5                             0            1             1   \n",
       "...                         ...          ...           ...   \n",
       "17996                         0            1             2   \n",
       "17997                         0            1             2   \n",
       "17998                         0            1             2   \n",
       "17999                         0            1             1   \n",
       "18000                         0            1             0   \n",
       "\n",
       "                 overdraft_protection  credit_rating  own_your_home  \\\n",
       "customer_number                                                       \n",
       "1                                   0              2              0   \n",
       "2                                   0              1              1   \n",
       "3                                   0              1              1   \n",
       "4                                   0              2              0   \n",
       "5                                   0              1              1   \n",
       "...                               ...            ...            ...   \n",
       "17996                               0              0              1   \n",
       "17997                               0              0              1   \n",
       "17998                               0              0              0   \n",
       "17999                               0              1              1   \n",
       "18000                               0              1              0   \n",
       "\n",
       "                 average_balance_q1  average_balance_q2  average_balance_q3  \\\n",
       "customer_number                                                               \n",
       "1                              1669                 877                1095   \n",
       "2                                39                 106                  78   \n",
       "3                               367                 352                 145   \n",
       "4                              1578                1760                1119   \n",
       "5                              2140                1357                 982   \n",
       "...                             ...                 ...                 ...   \n",
       "17996                           136                  65                  71   \n",
       "17997                           984                 940                 943   \n",
       "17998                           918                 767                1170   \n",
       "17999                           626                 983                 865   \n",
       "18000                           265                1378                1978   \n",
       "\n",
       "                 average_balance_q4  \n",
       "customer_number                      \n",
       "1                              1002  \n",
       "2                               366  \n",
       "3                               242  \n",
       "4                               419  \n",
       "5                               365  \n",
       "...                             ...  \n",
       "17996                           398  \n",
       "17997                           535  \n",
       "17998                          1494  \n",
       "17999                          1615  \n",
       "18000                           603  \n",
       "\n",
       "[17976 rows x 10 columns]"
      ]
     },
     "metadata": {},
     "output_type": "display_data"
    },
    {
     "data": {
      "text/plain": [
       "'Columns to dummify:'"
      ]
     },
     "metadata": {},
     "output_type": "display_data"
    },
    {
     "data": {
      "text/plain": [
       "customer_number\n",
       "1        Air Miles\n",
       "2        Air Miles\n",
       "3        Air Miles\n",
       "4        Air Miles\n",
       "5        Air Miles\n",
       "           ...    \n",
       "17996    Cash Back\n",
       "17997    Cash Back\n",
       "17998    Cash Back\n",
       "17999    Cash Back\n",
       "18000    Cash Back\n",
       "Name: reward, Length: 17976, dtype: object"
      ]
     },
     "metadata": {},
     "output_type": "display_data"
    },
    {
     "data": {
      "text/plain": [
       "'Dummified columns:'"
      ]
     },
     "metadata": {},
     "output_type": "display_data"
    },
    {
     "data": {
      "text/html": [
       "<div>\n",
       "<style scoped>\n",
       "    .dataframe tbody tr th:only-of-type {\n",
       "        vertical-align: middle;\n",
       "    }\n",
       "\n",
       "    .dataframe tbody tr th {\n",
       "        vertical-align: top;\n",
       "    }\n",
       "\n",
       "    .dataframe thead th {\n",
       "        text-align: right;\n",
       "    }\n",
       "</style>\n",
       "<table border=\"1\" class=\"dataframe\">\n",
       "  <thead>\n",
       "    <tr style=\"text-align: right;\">\n",
       "      <th></th>\n",
       "      <th>Cash Back</th>\n",
       "      <th>Points</th>\n",
       "    </tr>\n",
       "    <tr>\n",
       "      <th>customer_number</th>\n",
       "      <th></th>\n",
       "      <th></th>\n",
       "    </tr>\n",
       "  </thead>\n",
       "  <tbody>\n",
       "    <tr>\n",
       "      <th>1</th>\n",
       "      <td>0</td>\n",
       "      <td>0</td>\n",
       "    </tr>\n",
       "    <tr>\n",
       "      <th>2</th>\n",
       "      <td>0</td>\n",
       "      <td>0</td>\n",
       "    </tr>\n",
       "    <tr>\n",
       "      <th>3</th>\n",
       "      <td>0</td>\n",
       "      <td>0</td>\n",
       "    </tr>\n",
       "    <tr>\n",
       "      <th>4</th>\n",
       "      <td>0</td>\n",
       "      <td>0</td>\n",
       "    </tr>\n",
       "    <tr>\n",
       "      <th>5</th>\n",
       "      <td>0</td>\n",
       "      <td>0</td>\n",
       "    </tr>\n",
       "    <tr>\n",
       "      <th>...</th>\n",
       "      <td>...</td>\n",
       "      <td>...</td>\n",
       "    </tr>\n",
       "    <tr>\n",
       "      <th>17996</th>\n",
       "      <td>1</td>\n",
       "      <td>0</td>\n",
       "    </tr>\n",
       "    <tr>\n",
       "      <th>17997</th>\n",
       "      <td>1</td>\n",
       "      <td>0</td>\n",
       "    </tr>\n",
       "    <tr>\n",
       "      <th>17998</th>\n",
       "      <td>1</td>\n",
       "      <td>0</td>\n",
       "    </tr>\n",
       "    <tr>\n",
       "      <th>17999</th>\n",
       "      <td>1</td>\n",
       "      <td>0</td>\n",
       "    </tr>\n",
       "    <tr>\n",
       "      <th>18000</th>\n",
       "      <td>1</td>\n",
       "      <td>0</td>\n",
       "    </tr>\n",
       "  </tbody>\n",
       "</table>\n",
       "<p>17976 rows × 2 columns</p>\n",
       "</div>"
      ],
      "text/plain": [
       "                 Cash Back  Points\n",
       "customer_number                   \n",
       "1                        0       0\n",
       "2                        0       0\n",
       "3                        0       0\n",
       "4                        0       0\n",
       "5                        0       0\n",
       "...                    ...     ...\n",
       "17996                    1       0\n",
       "17997                    1       0\n",
       "17998                    1       0\n",
       "17999                    1       0\n",
       "18000                    1       0\n",
       "\n",
       "[17976 rows x 2 columns]"
      ]
     },
     "metadata": {},
     "output_type": "display_data"
    }
   ],
   "source": [
    "#conversion of the remaining categoricals to numbers via getdummies\n",
    "data3 = data2['reward']\n",
    "data2 = data2.drop('reward', axis=1)\n",
    "\n",
    "display('Dataframe without columns to be dummified:')\n",
    "display(data2)\n",
    "display('Columns to dummify:')\n",
    "display(data3)\n",
    "\n",
    "data3 = pd.get_dummies(data3,drop_first=True) \n",
    "display('Dummified columns:')\n",
    "display(data3)"
   ]
  },
  {
   "cell_type": "markdown",
   "metadata": {},
   "source": [
    "We decided to use drop first because the third option of reward is given already when the other 2 are 0."
   ]
  },
  {
   "cell_type": "markdown",
   "metadata": {},
   "source": [
    "We now put everything back together\n"
   ]
  },
  {
   "cell_type": "code",
   "execution_count": 431,
   "metadata": {
    "collapsed": true
   },
   "outputs": [
    {
     "data": {
      "text/plain": [
       "'Data4:'"
      ]
     },
     "metadata": {},
     "output_type": "display_data"
    },
    {
     "data": {
      "text/html": [
       "<div>\n",
       "<style scoped>\n",
       "    .dataframe tbody tr th:only-of-type {\n",
       "        vertical-align: middle;\n",
       "    }\n",
       "\n",
       "    .dataframe tbody tr th {\n",
       "        vertical-align: top;\n",
       "    }\n",
       "\n",
       "    .dataframe thead th {\n",
       "        text-align: right;\n",
       "    }\n",
       "</style>\n",
       "<table border=\"1\" class=\"dataframe\">\n",
       "  <thead>\n",
       "    <tr style=\"text-align: right;\">\n",
       "      <th></th>\n",
       "      <th>offer_accepted</th>\n",
       "      <th>mailer_type</th>\n",
       "      <th>income_level</th>\n",
       "      <th>overdraft_protection</th>\n",
       "      <th>credit_rating</th>\n",
       "      <th>own_your_home</th>\n",
       "      <th>average_balance_q1</th>\n",
       "      <th>average_balance_q2</th>\n",
       "      <th>average_balance_q3</th>\n",
       "      <th>average_balance_q4</th>\n",
       "      <th>Cash Back</th>\n",
       "      <th>Points</th>\n",
       "    </tr>\n",
       "    <tr>\n",
       "      <th>customer_number</th>\n",
       "      <th></th>\n",
       "      <th></th>\n",
       "      <th></th>\n",
       "      <th></th>\n",
       "      <th></th>\n",
       "      <th></th>\n",
       "      <th></th>\n",
       "      <th></th>\n",
       "      <th></th>\n",
       "      <th></th>\n",
       "      <th></th>\n",
       "      <th></th>\n",
       "    </tr>\n",
       "  </thead>\n",
       "  <tbody>\n",
       "    <tr>\n",
       "      <th>1</th>\n",
       "      <td>0</td>\n",
       "      <td>1</td>\n",
       "      <td>2</td>\n",
       "      <td>0</td>\n",
       "      <td>2</td>\n",
       "      <td>0</td>\n",
       "      <td>1669</td>\n",
       "      <td>877</td>\n",
       "      <td>1095</td>\n",
       "      <td>1002</td>\n",
       "      <td>0</td>\n",
       "      <td>0</td>\n",
       "    </tr>\n",
       "    <tr>\n",
       "      <th>2</th>\n",
       "      <td>0</td>\n",
       "      <td>1</td>\n",
       "      <td>1</td>\n",
       "      <td>0</td>\n",
       "      <td>1</td>\n",
       "      <td>1</td>\n",
       "      <td>39</td>\n",
       "      <td>106</td>\n",
       "      <td>78</td>\n",
       "      <td>366</td>\n",
       "      <td>0</td>\n",
       "      <td>0</td>\n",
       "    </tr>\n",
       "    <tr>\n",
       "      <th>3</th>\n",
       "      <td>0</td>\n",
       "      <td>0</td>\n",
       "      <td>2</td>\n",
       "      <td>0</td>\n",
       "      <td>1</td>\n",
       "      <td>1</td>\n",
       "      <td>367</td>\n",
       "      <td>352</td>\n",
       "      <td>145</td>\n",
       "      <td>242</td>\n",
       "      <td>0</td>\n",
       "      <td>0</td>\n",
       "    </tr>\n",
       "    <tr>\n",
       "      <th>4</th>\n",
       "      <td>0</td>\n",
       "      <td>1</td>\n",
       "      <td>1</td>\n",
       "      <td>0</td>\n",
       "      <td>2</td>\n",
       "      <td>0</td>\n",
       "      <td>1578</td>\n",
       "      <td>1760</td>\n",
       "      <td>1119</td>\n",
       "      <td>419</td>\n",
       "      <td>0</td>\n",
       "      <td>0</td>\n",
       "    </tr>\n",
       "    <tr>\n",
       "      <th>5</th>\n",
       "      <td>0</td>\n",
       "      <td>1</td>\n",
       "      <td>1</td>\n",
       "      <td>0</td>\n",
       "      <td>1</td>\n",
       "      <td>1</td>\n",
       "      <td>2140</td>\n",
       "      <td>1357</td>\n",
       "      <td>982</td>\n",
       "      <td>365</td>\n",
       "      <td>0</td>\n",
       "      <td>0</td>\n",
       "    </tr>\n",
       "    <tr>\n",
       "      <th>...</th>\n",
       "      <td>...</td>\n",
       "      <td>...</td>\n",
       "      <td>...</td>\n",
       "      <td>...</td>\n",
       "      <td>...</td>\n",
       "      <td>...</td>\n",
       "      <td>...</td>\n",
       "      <td>...</td>\n",
       "      <td>...</td>\n",
       "      <td>...</td>\n",
       "      <td>...</td>\n",
       "      <td>...</td>\n",
       "    </tr>\n",
       "    <tr>\n",
       "      <th>17996</th>\n",
       "      <td>0</td>\n",
       "      <td>1</td>\n",
       "      <td>2</td>\n",
       "      <td>0</td>\n",
       "      <td>0</td>\n",
       "      <td>1</td>\n",
       "      <td>136</td>\n",
       "      <td>65</td>\n",
       "      <td>71</td>\n",
       "      <td>398</td>\n",
       "      <td>1</td>\n",
       "      <td>0</td>\n",
       "    </tr>\n",
       "    <tr>\n",
       "      <th>17997</th>\n",
       "      <td>0</td>\n",
       "      <td>1</td>\n",
       "      <td>2</td>\n",
       "      <td>0</td>\n",
       "      <td>0</td>\n",
       "      <td>1</td>\n",
       "      <td>984</td>\n",
       "      <td>940</td>\n",
       "      <td>943</td>\n",
       "      <td>535</td>\n",
       "      <td>1</td>\n",
       "      <td>0</td>\n",
       "    </tr>\n",
       "    <tr>\n",
       "      <th>17998</th>\n",
       "      <td>0</td>\n",
       "      <td>1</td>\n",
       "      <td>2</td>\n",
       "      <td>0</td>\n",
       "      <td>0</td>\n",
       "      <td>0</td>\n",
       "      <td>918</td>\n",
       "      <td>767</td>\n",
       "      <td>1170</td>\n",
       "      <td>1494</td>\n",
       "      <td>1</td>\n",
       "      <td>0</td>\n",
       "    </tr>\n",
       "    <tr>\n",
       "      <th>17999</th>\n",
       "      <td>0</td>\n",
       "      <td>1</td>\n",
       "      <td>1</td>\n",
       "      <td>0</td>\n",
       "      <td>1</td>\n",
       "      <td>1</td>\n",
       "      <td>626</td>\n",
       "      <td>983</td>\n",
       "      <td>865</td>\n",
       "      <td>1615</td>\n",
       "      <td>1</td>\n",
       "      <td>0</td>\n",
       "    </tr>\n",
       "    <tr>\n",
       "      <th>18000</th>\n",
       "      <td>0</td>\n",
       "      <td>1</td>\n",
       "      <td>0</td>\n",
       "      <td>0</td>\n",
       "      <td>1</td>\n",
       "      <td>0</td>\n",
       "      <td>265</td>\n",
       "      <td>1378</td>\n",
       "      <td>1978</td>\n",
       "      <td>603</td>\n",
       "      <td>1</td>\n",
       "      <td>0</td>\n",
       "    </tr>\n",
       "  </tbody>\n",
       "</table>\n",
       "<p>17976 rows × 12 columns</p>\n",
       "</div>"
      ],
      "text/plain": [
       "                 offer_accepted  mailer_type  income_level  \\\n",
       "customer_number                                              \n",
       "1                             0            1             2   \n",
       "2                             0            1             1   \n",
       "3                             0            0             2   \n",
       "4                             0            1             1   \n",
       "5                             0            1             1   \n",
       "...                         ...          ...           ...   \n",
       "17996                         0            1             2   \n",
       "17997                         0            1             2   \n",
       "17998                         0            1             2   \n",
       "17999                         0            1             1   \n",
       "18000                         0            1             0   \n",
       "\n",
       "                 overdraft_protection  credit_rating  own_your_home  \\\n",
       "customer_number                                                       \n",
       "1                                   0              2              0   \n",
       "2                                   0              1              1   \n",
       "3                                   0              1              1   \n",
       "4                                   0              2              0   \n",
       "5                                   0              1              1   \n",
       "...                               ...            ...            ...   \n",
       "17996                               0              0              1   \n",
       "17997                               0              0              1   \n",
       "17998                               0              0              0   \n",
       "17999                               0              1              1   \n",
       "18000                               0              1              0   \n",
       "\n",
       "                 average_balance_q1  average_balance_q2  average_balance_q3  \\\n",
       "customer_number                                                               \n",
       "1                              1669                 877                1095   \n",
       "2                                39                 106                  78   \n",
       "3                               367                 352                 145   \n",
       "4                              1578                1760                1119   \n",
       "5                              2140                1357                 982   \n",
       "...                             ...                 ...                 ...   \n",
       "17996                           136                  65                  71   \n",
       "17997                           984                 940                 943   \n",
       "17998                           918                 767                1170   \n",
       "17999                           626                 983                 865   \n",
       "18000                           265                1378                1978   \n",
       "\n",
       "                 average_balance_q4  Cash Back  Points  \n",
       "customer_number                                         \n",
       "1                              1002          0       0  \n",
       "2                               366          0       0  \n",
       "3                               242          0       0  \n",
       "4                               419          0       0  \n",
       "5                               365          0       0  \n",
       "...                             ...        ...     ...  \n",
       "17996                           398          1       0  \n",
       "17997                           535          1       0  \n",
       "17998                          1494          1       0  \n",
       "17999                          1615          1       0  \n",
       "18000                           603          1       0  \n",
       "\n",
       "[17976 rows x 12 columns]"
      ]
     },
     "metadata": {},
     "output_type": "display_data"
    }
   ],
   "source": [
    "data4 = pd.concat([data2,data3],axis=1)\n",
    "display('Data4:',data4)"
   ]
  },
  {
   "cell_type": "markdown",
   "metadata": {},
   "source": [
    "# Auxiliary functions for the models"
   ]
  },
  {
   "cell_type": "markdown",
   "metadata": {},
   "source": [
    "# 5. Create and 6. Apply different models"
   ]
  },
  {
   "cell_type": "code",
   "execution_count": 432,
   "metadata": {},
   "outputs": [],
   "source": [
    "def calculate_display_results(model,predic,X_test,y_test):\n",
    "    # accuracy_score\n",
    "    # fitted X_test data vs. y_test data (actual answer)\n",
    "    accuracy =   round(accuracy_score(predic,y_test),2)\n",
    "    display(f'Accuracy score: {accuracy:.2f}')\n",
    "    # Kappa score\n",
    "    kappa =  round(cohen_kappa_score(y_test,predic),2)\n",
    "    display(f'Kappa:{kappa:.2f}')\n",
    "    # classification report\n",
    "    print('Classification report')\n",
    "    classif_report = classification_report(predic,y_test)\n",
    "    print(classif_report) \n",
    "    # compare predictions to actual answers\n",
    "    display('Confusion matrix')\n",
    "    conf_mat = confusion_matrix(predic,y_test).T\n",
    "    # visualize confusion matrix \n",
    "    ax = plot_confusion_matrix(model,X_test, y_test)\n",
    "    plt.show()  \n",
    "    return accuracy, kappa, conf_mat,classif_report\n",
    "\n",
    "def append_to_results(accuracy, kappa, conf_mat,classif_report):\n",
    "    infos_from_model =[]\n",
    "    infos_from_model.append(accuracy)\n",
    "    infos_from_model.append(kappa)\n",
    "    infos_from_model.append(conf_mat)\n",
    "    infos_from_model.append(classif_report)\n",
    "    return infos_from_model"
   ]
  },
  {
   "cell_type": "code",
   "execution_count": 434,
   "metadata": {},
   "outputs": [],
   "source": [
    "# X-y split\n",
    "X = data4.drop(['offer_accepted'], axis=1)\n",
    "y = data4['offer_accepted']\n",
    "y.columns = ['offer_accepted']"
   ]
  },
  {
   "cell_type": "code",
   "execution_count": 435,
   "metadata": {
    "scrolled": true
   },
   "outputs": [],
   "source": [
    "# train-test split\n",
    "X_train, X_test, y_train, y_test = train_test_split(X, y, test_size=0.2, random_state=42)"
   ]
  },
  {
   "cell_type": "code",
   "execution_count": 436,
   "metadata": {},
   "outputs": [],
   "source": [
    "# We will store the values of the results of the different models in a dictionary, \n",
    "# so that we can compare them afterwards.\n",
    "results ={}"
   ]
  },
  {
   "cell_type": "markdown",
   "metadata": {},
   "source": [
    "# Logistic Regression Classifier model with imbalance"
   ]
  },
  {
   "cell_type": "code",
   "execution_count": 437,
   "metadata": {},
   "outputs": [],
   "source": [
    "log_reg = LogisticRegression(random_state=42,  solver='lbfgs', max_iter=500, multi_class='ovr').fit(X_train, y_train)\n",
    "predictions = log_reg.predict(X_test)"
   ]
  },
  {
   "cell_type": "code",
   "execution_count": 438,
   "metadata": {},
   "outputs": [
    {
     "data": {
      "text/plain": [
       "'Accuracy score: 0.95'"
      ]
     },
     "metadata": {},
     "output_type": "display_data"
    },
    {
     "data": {
      "text/plain": [
       "'Kappa:0.00'"
      ]
     },
     "metadata": {},
     "output_type": "display_data"
    },
    {
     "name": "stdout",
     "output_type": "stream",
     "text": [
      "Classification report\n",
      "              precision    recall  f1-score   support\n",
      "\n",
      "           0       1.00      0.95      0.97      3596\n",
      "           1       0.00      0.00      0.00         0\n",
      "\n",
      "    accuracy                           0.95      3596\n",
      "   macro avg       0.50      0.47      0.49      3596\n",
      "weighted avg       1.00      0.95      0.97      3596\n",
      "\n"
     ]
    },
    {
     "name": "stderr",
     "output_type": "stream",
     "text": [
      "C:\\Users\\Borja\\AppData\\Roaming\\Python\\Python37\\site-packages\\sklearn\\metrics\\_classification.py:1221: UndefinedMetricWarning: Recall and F-score are ill-defined and being set to 0.0 in labels with no true samples. Use `zero_division` parameter to control this behavior.\n",
      "  _warn_prf(average, modifier, msg_start, len(result))\n"
     ]
    },
    {
     "data": {
      "text/plain": [
       "'Confusion matrix'"
      ]
     },
     "metadata": {},
     "output_type": "display_data"
    }
   ],
   "source": [
    "# Calculate results\n",
    "accuracy, kappa, conf_mat,classif_report = calculate_display_results(log_reg,predictions,X_test,y_test)\n",
    "\n",
    "# Add results to result dictionary\n",
    "inf_from_model = append_to_results(accuracy, kappa, conf_mat,classif_report)\n",
    "\n",
    "results['log_reg']= inf_from_model"
   ]
  },
  {
   "cell_type": "markdown",
   "metadata": {},
   "source": [
    "These results can be explained due to the significant imabalance we have on the dependent feature y (offer_accepted)"
   ]
  },
  {
   "cell_type": "markdown",
   "metadata": {},
   "source": [
    "# Fixing the dependend feature imbalance through Smote\n",
    "\n",
    "We will use the Smote method to oversample the \"offer accepted\" feature to fix the imbalance."
   ]
  },
  {
   "cell_type": "code",
   "execution_count": 439,
   "metadata": {},
   "outputs": [],
   "source": [
    "smote = SMOTE()\n",
    "X_sm, y_sm = smote.fit_sample(X, y)"
   ]
  },
  {
   "cell_type": "code",
   "execution_count": 440,
   "metadata": {},
   "outputs": [],
   "source": [
    "X_train, X_test, y_train, y_test = train_test_split(X_sm, y_sm, test_size=0.2, random_state=100)"
   ]
  },
  {
   "cell_type": "code",
   "execution_count": 441,
   "metadata": {},
   "outputs": [
    {
     "data": {
      "text/plain": [
       "1    16955\n",
       "0    16955\n",
       "Name: offer_accepted, dtype: int64"
      ]
     },
     "metadata": {},
     "output_type": "display_data"
    }
   ],
   "source": [
    "display(y_sm.value_counts())"
   ]
  },
  {
   "cell_type": "markdown",
   "metadata": {},
   "source": [
    "As we can see, Smote has solved the class imbalance correctly.\n",
    "\n",
    "The opposite approach, reducing the number of \"No\" by undersampling, would lead to a significant loss of information. We therefore, think that Smote works, in this case, better. "
   ]
  },
  {
   "cell_type": "markdown",
   "metadata": {},
   "source": [
    "# Logistic Regression Classifier model without imbalance"
   ]
  },
  {
   "cell_type": "code",
   "execution_count": 442,
   "metadata": {},
   "outputs": [],
   "source": [
    "sm_log_reg = LogisticRegression(random_state=0,  max_iter=4000, solver='lbfgs', multi_class='ovr').fit(X_train, y_train)\n",
    "predictions = sm_log_reg.predict(X_test)"
   ]
  },
  {
   "cell_type": "code",
   "execution_count": 443,
   "metadata": {},
   "outputs": [
    {
     "data": {
      "text/plain": [
       "'Accuracy score: 0.86'"
      ]
     },
     "metadata": {},
     "output_type": "display_data"
    },
    {
     "data": {
      "text/plain": [
       "'Kappa:0.71'"
      ]
     },
     "metadata": {},
     "output_type": "display_data"
    },
    {
     "name": "stdout",
     "output_type": "stream",
     "text": [
      "Classification report\n",
      "              precision    recall  f1-score   support\n",
      "\n",
      "           0       0.83      0.88      0.85      3264\n",
      "           1       0.88      0.83      0.86      3518\n",
      "\n",
      "    accuracy                           0.86      6782\n",
      "   macro avg       0.86      0.86      0.86      6782\n",
      "weighted avg       0.86      0.86      0.86      6782\n",
      "\n"
     ]
    },
    {
     "data": {
      "text/plain": [
       "'Confusion matrix'"
      ]
     },
     "metadata": {},
     "output_type": "display_data"
    }
   ],
   "source": [
    "# Calculate results\n",
    "accuracy, kappa, conf_mat,classif_report = calculate_display_results(sm_log_reg,predictions,X_test,y_test)\n",
    "\n",
    "# Add results to result dictionary\n",
    "inf_from_model = append_to_results(accuracy, kappa, conf_mat,classif_report)\n",
    "\n",
    "results['sm_log_reg']= inf_from_model"
   ]
  },
  {
   "cell_type": "markdown",
   "metadata": {},
   "source": [
    "Due to the very high results we got for the logistic model after performing Smote, \n",
    "we decided to check for overfitting with the use of the KFold technique"
   ]
  },
  {
   "cell_type": "code",
   "execution_count": 314,
   "metadata": {
    "collapsed": true
   },
   "outputs": [
    {
     "name": "stdout",
     "output_type": "stream",
     "text": [
      "Accuracy for the fold no. 1 on the test set:0.97\n",
      "Kappa: 0.95\n",
      "Confusion matrix\n",
      "[[3332  184]\n",
      " [   0 3266]]\n",
      "Accuracy for the fold no. 2 on the test set:0.97\n",
      "Kappa: 0.94\n",
      "Confusion matrix\n",
      "[[3434  197]\n",
      " [   0 3151]]\n",
      "Accuracy for the fold no. 3 on the test set:0.97\n",
      "Kappa: 0.94\n",
      "Confusion matrix\n",
      "[[3398  216]\n",
      " [   0 3168]]\n",
      "Accuracy for the fold no. 4 on the test set:0.97\n",
      "Kappa: 0.94\n",
      "Confusion matrix\n",
      "[[3426  220]\n",
      " [   0 3136]]\n",
      "Accuracy for the fold no. 5 on the test set:0.97\n",
      "Kappa: 0.94\n",
      "Confusion matrix\n",
      "[[3365  214]\n",
      " [   0 3203]]\n"
     ]
    }
   ],
   "source": [
    "from sklearn.model_selection import KFold\n",
    "\n",
    "kf5 = KFold(n_splits=5, shuffle=True)\n",
    "\n",
    "features = X.columns\n",
    "\n",
    "i = 1\n",
    "for train_index, test_index in kf5.split(X_sm):\n",
    "    X_train = X_sm.iloc[train_index]\n",
    "    X_test = X_sm.iloc[test_index]\n",
    "    y_train = y_sm.iloc[train_index]\n",
    "    y_test = y_sm.iloc[test_index]\n",
    "    #Train the model\n",
    "    sm_log_reg.fit(X_train, y_train) #Training the model\n",
    "    print(f'Accuracy for the fold no. {i} on the test set:{accuracy_score(y_test, classification.predict(X_test)):.2f}')\n",
    "    print(f'Kappa: {cohen_kappa_score(y_test,sm_log_reg.predict(X_test)):.2f}')\n",
    "    print('Confusion matrix')\n",
    "    print(confusion_matrix(classification.predict(X_test),y_test))\n",
    "    i += 1"
   ]
  },
  {
   "cell_type": "markdown",
   "metadata": {},
   "source": [
    "We see that the results don't change significantly, therefore, the model doesn't seem to be overfitting."
   ]
  },
  {
   "cell_type": "markdown",
   "metadata": {},
   "source": [
    "Another test we can do is to compare the accuracy of the train set versus the test set.\n",
    "In our case, they are both very similar, so it doesn't seem that our model is overfitting."
   ]
  },
  {
   "cell_type": "code",
   "execution_count": 376,
   "metadata": {},
   "outputs": [
    {
     "name": "stdout",
     "output_type": "stream",
     "text": [
      "Accuracy score for the train set: 0.97\n"
     ]
    }
   ],
   "source": [
    "print(f'Accuracy score for the train set: {accuracy_score(sm_log_reg.predict(X_train),y_train):.2f}')"
   ]
  },
  {
   "cell_type": "markdown",
   "metadata": {},
   "source": [
    "# Results with different approaches:"
   ]
  },
  {
   "cell_type": "code",
   "execution_count": null,
   "metadata": {},
   "outputs": [],
   "source": [
    "\"\"\"\n",
    "#1. Standard (all features): \n",
    "############################\n",
    "Confusion matrix\n",
    "[[3449  207]\n",
    " [  12 3114]]\n",
    "-------------------------------------------------------\n",
    "Accuracy score\n",
    "0.967708640519021\n",
    "-------------------------------------------------------\n",
    "Classification report\n",
    "              precision    recall  f1-score   support\n",
    "\n",
    "           0       1.00      0.94      0.97      3656\n",
    "           1       0.94      1.00      0.97      3126\n",
    "\n",
    "    accuracy                           0.97      6782\n",
    "   macro avg       0.97      0.97      0.97      6782\n",
    "weighted avg       0.97      0.97      0.97      6782\n",
    "\n",
    "Kappa: 0.9353129278241193\n",
    "\n",
    "\n",
    "#2. Removing features with VIF > 5:\n",
    "############################\n",
    "Confusion matrix\n",
    "[[6876  396]\n",
    " [   0 6292]]\n",
    "-------------------------------------------------------\n",
    "Accuracy score\n",
    "0.9708050722500737\n",
    "-------------------------------------------------------\n",
    "Classification report\n",
    "              precision    recall  f1-score   support\n",
    "\n",
    "           0       1.00      0.95      0.97      7272\n",
    "           1       0.94      1.00      0.97      6292\n",
    "\n",
    "    accuracy                           0.97     13564\n",
    "   macro avg       0.97      0.97      0.97     13564\n",
    "weighted avg       0.97      0.97      0.97     13564\n",
    "\n",
    "Kappa: 0.9415516141820501\n",
    "\n",
    "\n",
    "#3. Removing features with VIF > 5 & dropping balance\n",
    "############################\n",
    "Confusion matrix\n",
    "[[2794  480]\n",
    " [ 667 2841]]\n",
    "-------------------------------------------------------\n",
    "Accuracy score\n",
    "0.8308758478324978\n",
    "-------------------------------------------------------\n",
    "Classification report\n",
    "              precision    recall  f1-score   support\n",
    "\n",
    "           0       0.81      0.85      0.83      3274\n",
    "           1       0.86      0.81      0.83      3508\n",
    "\n",
    "    accuracy                           0.83      6782\n",
    "   macro avg       0.83      0.83      0.83      6782\n",
    "weighted avg       0.83      0.83      0.83      6782\n",
    "\n",
    "Kappa: 0.661992439257566\n",
    "\n",
    "#4. Removing features with VIF > 5 & dropping balance & q1 and Q2 (VIF>5 after dropping balance)\n",
    "############################\n",
    "Confusion matrix\n",
    "[[2801  451]\n",
    " [ 660 2870]]\n",
    "-------------------------------------------------------\n",
    "Accuracy score\n",
    "0.8361840165143025\n",
    "-------------------------------------------------------\n",
    "Classification report\n",
    "              precision    recall  f1-score   support\n",
    "\n",
    "           0       0.81      0.86      0.83      3252\n",
    "           1       0.86      0.81      0.84      3530\n",
    "\n",
    "    accuracy                           0.84      6782\n",
    "   macro avg       0.84      0.84      0.84      6782\n",
    "weighted avg       0.84      0.84      0.84      6782\n",
    "\n",
    "Kappa: 0.6726450307513218\n",
    "\n",
    "#5. Removing features with VIF > 5 & dropping q1 and Q2 (VIF>5 after dropping balance) but not balance\n",
    "\n",
    "Confusion matrix\n",
    "[[2798  492]\n",
    " [ 663 2829]]\n",
    "-------------------------------------------------------\n",
    "Accuracy score\n",
    "0.8296962547920967\n",
    "-------------------------------------------------------\n",
    "Classification report\n",
    "              precision    recall  f1-score   support\n",
    "\n",
    "           0       0.81      0.85      0.83      3290\n",
    "           1       0.85      0.81      0.83      3492\n",
    "\n",
    "    accuracy                           0.83      6782\n",
    "   macro avg       0.83      0.83      0.83      6782\n",
    "weighted avg       0.83      0.83      0.83      6782\n",
    "\n",
    "\n",
    "\n",
    "\n",
    "Kappa: 0.6596018008420165\n",
    "\n",
    "\"\"\""
   ]
  },
  {
   "cell_type": "markdown",
   "metadata": {},
   "source": [
    "# KNN model"
   ]
  },
  {
   "cell_type": "markdown",
   "metadata": {},
   "source": [
    "We run the KNN model for different numbers of neighbors to compare performance"
   ]
  },
  {
   "cell_type": "code",
   "execution_count": 444,
   "metadata": {},
   "outputs": [
    {
     "name": "stdout",
     "output_type": "stream",
     "text": [
      "Neighbors:  1\n"
     ]
    },
    {
     "data": {
      "text/plain": [
       "'Accuracy score: 0.89'"
      ]
     },
     "metadata": {},
     "output_type": "display_data"
    },
    {
     "data": {
      "text/plain": [
       "'Kappa:0.77'"
      ]
     },
     "metadata": {},
     "output_type": "display_data"
    },
    {
     "name": "stdout",
     "output_type": "stream",
     "text": [
      "Classification report\n",
      "              precision    recall  f1-score   support\n",
      "\n",
      "           0       0.81      0.96      0.88      2924\n",
      "           1       0.97      0.83      0.89      3858\n",
      "\n",
      "    accuracy                           0.89      6782\n",
      "   macro avg       0.89      0.90      0.89      6782\n",
      "weighted avg       0.90      0.89      0.89      6782\n",
      "\n"
     ]
    },
    {
     "data": {
      "text/plain": [
       "'Confusion matrix'"
      ]
     },
     "metadata": {},
     "output_type": "display_data"
    },
    {
     "name": "stdout",
     "output_type": "stream",
     "text": [
      "Neighbors:  2\n"
     ]
    },
    {
     "data": {
      "text/plain": [
       "'Accuracy score: 0.88'"
      ]
     },
     "metadata": {},
     "output_type": "display_data"
    },
    {
     "data": {
      "text/plain": [
       "'Kappa:0.76'"
      ]
     },
     "metadata": {},
     "output_type": "display_data"
    },
    {
     "name": "stdout",
     "output_type": "stream",
     "text": [
      "Classification report\n",
      "              precision    recall  f1-score   support\n",
      "\n",
      "           0       0.85      0.91      0.88      3217\n",
      "           1       0.91      0.85      0.88      3565\n",
      "\n",
      "    accuracy                           0.88      6782\n",
      "   macro avg       0.88      0.88      0.88      6782\n",
      "weighted avg       0.88      0.88      0.88      6782\n",
      "\n"
     ]
    },
    {
     "data": {
      "text/plain": [
       "'Confusion matrix'"
      ]
     },
     "metadata": {},
     "output_type": "display_data"
    },
    {
     "name": "stdout",
     "output_type": "stream",
     "text": [
      "Neighbors:  3\n"
     ]
    },
    {
     "data": {
      "text/plain": [
       "'Accuracy score: 0.85'"
      ]
     },
     "metadata": {},
     "output_type": "display_data"
    },
    {
     "data": {
      "text/plain": [
       "'Kappa:0.70'"
      ]
     },
     "metadata": {},
     "output_type": "display_data"
    },
    {
     "name": "stdout",
     "output_type": "stream",
     "text": [
      "Classification report\n",
      "              precision    recall  f1-score   support\n",
      "\n",
      "           0       0.74      0.96      0.84      2653\n",
      "           1       0.97      0.78      0.86      4129\n",
      "\n",
      "    accuracy                           0.85      6782\n",
      "   macro avg       0.85      0.87      0.85      6782\n",
      "weighted avg       0.88      0.85      0.85      6782\n",
      "\n"
     ]
    },
    {
     "data": {
      "text/plain": [
       "'Confusion matrix'"
      ]
     },
     "metadata": {},
     "output_type": "display_data"
    },
    {
     "name": "stdout",
     "output_type": "stream",
     "text": [
      "Neighbors:  4\n"
     ]
    },
    {
     "data": {
      "text/plain": [
       "'Accuracy score: 0.86'"
      ]
     },
     "metadata": {},
     "output_type": "display_data"
    },
    {
     "data": {
      "text/plain": [
       "'Kappa:0.73'"
      ]
     },
     "metadata": {},
     "output_type": "display_data"
    },
    {
     "name": "stdout",
     "output_type": "stream",
     "text": [
      "Classification report\n",
      "              precision    recall  f1-score   support\n",
      "\n",
      "           0       0.78      0.94      0.85      2891\n",
      "           1       0.95      0.81      0.87      3891\n",
      "\n",
      "    accuracy                           0.86      6782\n",
      "   macro avg       0.86      0.87      0.86      6782\n",
      "weighted avg       0.88      0.86      0.86      6782\n",
      "\n"
     ]
    },
    {
     "data": {
      "text/plain": [
       "'Confusion matrix'"
      ]
     },
     "metadata": {},
     "output_type": "display_data"
    },
    {
     "name": "stdout",
     "output_type": "stream",
     "text": [
      "Neighbors:  5\n"
     ]
    },
    {
     "data": {
      "text/plain": [
       "'Accuracy score: 0.84'"
      ]
     },
     "metadata": {},
     "output_type": "display_data"
    },
    {
     "data": {
      "text/plain": [
       "'Kappa:0.68'"
      ]
     },
     "metadata": {},
     "output_type": "display_data"
    },
    {
     "name": "stdout",
     "output_type": "stream",
     "text": [
      "Classification report\n",
      "              precision    recall  f1-score   support\n",
      "\n",
      "           0       0.71      0.97      0.82      2523\n",
      "           1       0.98      0.76      0.85      4259\n",
      "\n",
      "    accuracy                           0.84      6782\n",
      "   macro avg       0.84      0.86      0.84      6782\n",
      "weighted avg       0.88      0.84      0.84      6782\n",
      "\n"
     ]
    },
    {
     "data": {
      "text/plain": [
       "'Confusion matrix'"
      ]
     },
     "metadata": {},
     "output_type": "display_data"
    },
    {
     "name": "stdout",
     "output_type": "stream",
     "text": [
      "Neighbors:  6\n"
     ]
    },
    {
     "data": {
      "text/plain": [
       "'Accuracy score: 0.85'"
      ]
     },
     "metadata": {},
     "output_type": "display_data"
    },
    {
     "data": {
      "text/plain": [
       "'Kappa:0.70'"
      ]
     },
     "metadata": {},
     "output_type": "display_data"
    },
    {
     "name": "stdout",
     "output_type": "stream",
     "text": [
      "Classification report\n",
      "              precision    recall  f1-score   support\n",
      "\n",
      "           0       0.74      0.95      0.83      2693\n",
      "           1       0.96      0.78      0.86      4089\n",
      "\n",
      "    accuracy                           0.85      6782\n",
      "   macro avg       0.85      0.87      0.85      6782\n",
      "weighted avg       0.87      0.85      0.85      6782\n",
      "\n"
     ]
    },
    {
     "data": {
      "text/plain": [
       "'Confusion matrix'"
      ]
     },
     "metadata": {},
     "output_type": "display_data"
    },
    {
     "name": "stdout",
     "output_type": "stream",
     "text": [
      "Neighbors:  7\n"
     ]
    },
    {
     "data": {
      "text/plain": [
       "'Accuracy score: 0.82'"
      ]
     },
     "metadata": {},
     "output_type": "display_data"
    },
    {
     "data": {
      "text/plain": [
       "'Kappa:0.65'"
      ]
     },
     "metadata": {},
     "output_type": "display_data"
    },
    {
     "name": "stdout",
     "output_type": "stream",
     "text": [
      "Classification report\n",
      "              precision    recall  f1-score   support\n",
      "\n",
      "           0       0.67      0.97      0.79      2393\n",
      "           1       0.98      0.74      0.84      4389\n",
      "\n",
      "    accuracy                           0.82      6782\n",
      "   macro avg       0.83      0.86      0.82      6782\n",
      "weighted avg       0.87      0.82      0.83      6782\n",
      "\n"
     ]
    },
    {
     "data": {
      "text/plain": [
       "'Confusion matrix'"
      ]
     },
     "metadata": {},
     "output_type": "display_data"
    },
    {
     "name": "stdout",
     "output_type": "stream",
     "text": [
      "Neighbors:  8\n"
     ]
    },
    {
     "data": {
      "text/plain": [
       "'Accuracy score: 0.83'"
      ]
     },
     "metadata": {},
     "output_type": "display_data"
    },
    {
     "data": {
      "text/plain": [
       "'Kappa:0.67'"
      ]
     },
     "metadata": {},
     "output_type": "display_data"
    },
    {
     "name": "stdout",
     "output_type": "stream",
     "text": [
      "Classification report\n",
      "              precision    recall  f1-score   support\n",
      "\n",
      "           0       0.70      0.96      0.81      2542\n",
      "           1       0.97      0.76      0.85      4240\n",
      "\n",
      "    accuracy                           0.83      6782\n",
      "   macro avg       0.84      0.86      0.83      6782\n",
      "weighted avg       0.87      0.83      0.84      6782\n",
      "\n"
     ]
    },
    {
     "data": {
      "text/plain": [
       "'Confusion matrix'"
      ]
     },
     "metadata": {},
     "output_type": "display_data"
    },
    {
     "name": "stdout",
     "output_type": "stream",
     "text": [
      "Neighbors:  9\n"
     ]
    },
    {
     "data": {
      "text/plain": [
       "'Accuracy score: 0.81'"
      ]
     },
     "metadata": {},
     "output_type": "display_data"
    },
    {
     "data": {
      "text/plain": [
       "'Kappa:0.62'"
      ]
     },
     "metadata": {},
     "output_type": "display_data"
    },
    {
     "name": "stdout",
     "output_type": "stream",
     "text": [
      "Classification report\n",
      "              precision    recall  f1-score   support\n",
      "\n",
      "           0       0.65      0.97      0.78      2305\n",
      "           1       0.98      0.73      0.84      4477\n",
      "\n",
      "    accuracy                           0.81      6782\n",
      "   macro avg       0.81      0.85      0.81      6782\n",
      "weighted avg       0.87      0.81      0.82      6782\n",
      "\n"
     ]
    },
    {
     "data": {
      "text/plain": [
       "'Confusion matrix'"
      ]
     },
     "metadata": {},
     "output_type": "display_data"
    },
    {
     "name": "stdout",
     "output_type": "stream",
     "text": [
      "Neighbors:  10\n"
     ]
    },
    {
     "data": {
      "text/plain": [
       "'Accuracy score: 0.82'"
      ]
     },
     "metadata": {},
     "output_type": "display_data"
    },
    {
     "data": {
      "text/plain": [
       "'Kappa:0.64'"
      ]
     },
     "metadata": {},
     "output_type": "display_data"
    },
    {
     "name": "stdout",
     "output_type": "stream",
     "text": [
      "Classification report\n",
      "              precision    recall  f1-score   support\n",
      "\n",
      "           0       0.68      0.96      0.79      2455\n",
      "           1       0.97      0.74      0.84      4327\n",
      "\n",
      "    accuracy                           0.82      6782\n",
      "   macro avg       0.82      0.85      0.82      6782\n",
      "weighted avg       0.86      0.82      0.82      6782\n",
      "\n"
     ]
    },
    {
     "data": {
      "text/plain": [
       "'Confusion matrix'"
      ]
     },
     "metadata": {},
     "output_type": "display_data"
    }
   ],
   "source": [
    "for n in range(10):\n",
    "    inf_from_model =[]\n",
    "    neigh = n+1\n",
    "    knn_classifier = KNeighborsClassifier(n_neighbors=neigh).fit(X_train, y_train)\n",
    "    predictions = knn_classifier.predict(X_test)\n",
    "    print('Neighbors: ',neigh)\n",
    "    # Calculate results\n",
    "    accuracy, kappa, conf_mat,classif_report = calculate_display_results(knn_classifier,predictions,X_test,y_test)\n",
    "    # Add results to result dictionary\n",
    "    inf_from_model = append_to_results(accuracy, kappa, conf_mat,classif_report)\n",
    "    mod ='knn_'+str(neigh)\n",
    "    results[mod]= inf_from_model"
   ]
  },
  {
   "cell_type": "markdown",
   "metadata": {},
   "source": [
    "# Random forest"
   ]
  },
  {
   "cell_type": "code",
   "execution_count": 445,
   "metadata": {},
   "outputs": [],
   "source": [
    "rfc = RandomForestClassifier().fit(X_train, y_train)\n",
    "predictions = rfc.predict(X_test)"
   ]
  },
  {
   "cell_type": "code",
   "execution_count": 446,
   "metadata": {},
   "outputs": [
    {
     "data": {
      "text/plain": [
       "'Accuracy score: 0.93'"
      ]
     },
     "metadata": {},
     "output_type": "display_data"
    },
    {
     "data": {
      "text/plain": [
       "'Kappa:0.86'"
      ]
     },
     "metadata": {},
     "output_type": "display_data"
    },
    {
     "name": "stdout",
     "output_type": "stream",
     "text": [
      "Classification report\n",
      "              precision    recall  f1-score   support\n",
      "\n",
      "           0       0.91      0.96      0.93      3277\n",
      "           1       0.96      0.91      0.93      3505\n",
      "\n",
      "    accuracy                           0.93      6782\n",
      "   macro avg       0.93      0.93      0.93      6782\n",
      "weighted avg       0.93      0.93      0.93      6782\n",
      "\n"
     ]
    },
    {
     "data": {
      "text/plain": [
       "'Confusion matrix'"
      ]
     },
     "metadata": {},
     "output_type": "display_data"
    }
   ],
   "source": [
    "# Calculate results\n",
    "accuracy, kappa, conf_mat,classif_report = calculate_display_results(rfc,predictions,X_test,y_test)\n",
    "# Add results to result dictionary\n",
    "inf_from_model = append_to_results(accuracy, kappa, conf_mat,classif_report)\n",
    "\n",
    "results['rfc']= inf_from_model"
   ]
  },
  {
   "cell_type": "markdown",
   "metadata": {},
   "source": [
    "# Visualization of the results"
   ]
  },
  {
   "cell_type": "code",
   "execution_count": 447,
   "metadata": {},
   "outputs": [],
   "source": [
    "results_df = pd.DataFrame()\n",
    "results_df['parameters']=['Accuracy','Kappa']\n",
    "for key, value in results.items() :\n",
    "    results_df[key]=[value[0],value[1]]\n",
    "results_df.set_index('parameters',inplace=True)\n",
    "results_df=results_df.T\n",
    "results_df.sort_values(by =['Accuracy', 'Kappa'],inplace=True)"
   ]
  },
  {
   "cell_type": "code",
   "execution_count": 455,
   "metadata": {},
   "outputs": [],
   "source": [
    "plt.plot([1])\n",
    "\n",
    "ax = sns.scatterplot(data=results_df)\n",
    "plt.xticks(rotation=45)\n",
    "plt.grid()\n",
    "plt.figure(figsize=(20, 10))\n",
    "plt.show()"
   ]
  },
  {
   "cell_type": "code",
   "execution_count": null,
   "metadata": {},
   "outputs": [],
   "source": []
  }
 ],
 "metadata": {
  "kernelspec": {
   "display_name": "Python 3",
   "language": "python",
   "name": "python3"
  },
  "language_info": {
   "codemirror_mode": {
    "name": "ipython",
    "version": 3
   },
   "file_extension": ".py",
   "mimetype": "text/x-python",
   "name": "python",
   "nbconvert_exporter": "python",
   "pygments_lexer": "ipython3",
   "version": "3.7.4"
  }
 },
 "nbformat": 4,
 "nbformat_minor": 2
}
